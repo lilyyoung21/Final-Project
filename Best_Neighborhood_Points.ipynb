{
 "cells": [
  {
   "cell_type": "markdown",
   "metadata": {},
   "source": [
    "## Cade's Metric Winners:"
   ]
  },
  {
   "cell_type": "markdown",
   "metadata": {},
   "source": [
    "Chateau = 10\n",
    "\n",
    "Squirrel Hill North = 9\n",
    "\n",
    "Edgeworth = 8"
   ]
  },
  {
   "cell_type": "markdown",
   "metadata": {},
   "source": [
    "## Noah's Metric Winners:"
   ]
  },
  {
   "cell_type": "markdown",
   "metadata": {},
   "source": [
    "Squirrel Hill South = 10\n",
    "\n",
    "North Oakland = 9\n",
    "\n",
    "Banksville = 8"
   ]
  },
  {
   "cell_type": "markdown",
   "metadata": {},
   "source": [
    "## Lily's Metric Winners:"
   ]
  },
  {
   "cell_type": "markdown",
   "metadata": {},
   "source": [
    "North Oakland = 10\n",
    "\n",
    "Squirrel Hill North = 9\n",
    "\n",
    "Central Oakland = 8"
   ]
  },
  {
   "cell_type": "markdown",
   "metadata": {},
   "source": [
    "## LeAndre's Metric Winners:"
   ]
  },
  {
   "cell_type": "markdown",
   "metadata": {},
   "source": [
    "Central Business Distric = 10\n",
    "\n",
    "Central Oakland = 9\n",
    "\n",
    "Strip District = 8"
   ]
  },
  {
   "cell_type": "markdown",
   "metadata": {},
   "source": [
    "## Overall Totals:"
   ]
  },
  {
   "cell_type": "markdown",
   "metadata": {},
   "source": [
    "North Oakland = 19\n",
    "\n",
    "Squirrel Hill North = 18\n",
    "\n",
    "Central Oakland = 17\n",
    "\n",
    "Chateau = 10\n",
    "\n",
    "Squirrel Hill South = 10\n",
    "\n",
    "Edgeville = 8\n",
    "\n",
    "Banksville = 8\n",
    "\n",
    "Central Business District = 8\n",
    "\n",
    "Strip District = 8"
   ]
  },
  {
   "cell_type": "markdown",
   "metadata": {},
   "source": [
    "## Conclusion"
   ]
  },
  {
   "cell_type": "markdown",
   "metadata": {},
   "source": [
    "After totalling all of the scores from each individual metric, we have deterimined that North Oakland is the best neighborhood around the Pittsburgh area.  We determined this based on the metric that the best neighborhood implies that it is the healthiest overall neighborhood in Pittsburgh.  North Oakland had the second highest median age of death and it had the lowest overall obesity rate.  Because of the results from the metrics we analyzed, we have concluded that North Oakland is the best neighborhood in the Pittsburgh area. "
   ]
  }
 ],
 "metadata": {
  "kernelspec": {
   "display_name": "Python 3",
   "language": "python",
   "name": "python3"
  },
  "language_info": {
   "codemirror_mode": {
    "name": "ipython",
    "version": 3
   },
   "file_extension": ".py",
   "mimetype": "text/x-python",
   "name": "python",
   "nbconvert_exporter": "python",
   "pygments_lexer": "ipython3",
   "version": "3.8.5"
  }
 },
 "nbformat": 4,
 "nbformat_minor": 4
}

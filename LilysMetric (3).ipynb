{
 "cells": [
  {
   "cell_type": "markdown",
   "metadata": {},
   "source": [
    "## Introduction\n",
    "For this project, we decided that the best neighborhood is the healthiest neighborhood. We included factors like covid cases, covid deaths, median death age, and obesity rates. Obviously to go further in depth and actually decide on the healthiest neighborhood it would require many more datasets. \n",
    "## The Metric\n",
    "For this project I used a data set that includes obesity rates in different neighborhoods in Allegheny County. I ranked these from least to best and used this as my metric. The best neighborhood is therefore the neighborhood with the lowest obesity rate. \n"
   ]
  },
  {
   "cell_type": "markdown",
   "metadata": {},
   "source": [
    "First, I imported pandas and loaded in my data file."
   ]
  },
  {
   "cell_type": "code",
   "execution_count": 1,
   "metadata": {},
   "outputs": [],
   "source": [
    "import pandas as pd  \n",
    "obesityRates = pd.read_csv(\"obesityratesinAlleghenyCounty.csv\")"
   ]
  },
  {
   "cell_type": "markdown",
   "metadata": {},
   "source": [
    "Then, I manually got rid of some data points that I couldnt get rid of using pandas."
   ]
  },
  {
   "cell_type": "code",
   "execution_count": 3,
   "metadata": {},
   "outputs": [],
   "source": [
    "obesityRates.drop([20, 16, 17, 19, 49, 20, 16, 415, 7, 5, 50, 57, 22, 53, 58], inplace=True)"
   ]
  },
  {
   "cell_type": "markdown",
   "metadata": {},
   "source": [
    "This prints out the data set."
   ]
  },
  {
   "cell_type": "code",
   "execution_count": 4,
   "metadata": {},
   "outputs": [
    {
     "data": {
      "text/html": [
       "<div>\n",
       "<style scoped>\n",
       "    .dataframe tbody tr th:only-of-type {\n",
       "        vertical-align: middle;\n",
       "    }\n",
       "\n",
       "    .dataframe tbody tr th {\n",
       "        vertical-align: top;\n",
       "    }\n",
       "\n",
       "    .dataframe thead th {\n",
       "        text-align: right;\n",
       "    }\n",
       "</style>\n",
       "<table border=\"1\" class=\"dataframe\">\n",
       "  <thead>\n",
       "    <tr style=\"text-align: right;\">\n",
       "      <th></th>\n",
       "      <th>stname</th>\n",
       "      <th>tractfips</th>\n",
       "      <th>2000 Tract</th>\n",
       "      <th>2010 Tract</th>\n",
       "      <th>MUNICIPALITY</th>\n",
       "      <th>Municipality</th>\n",
       "      <th>City Neighborhood</th>\n",
       "      <th>2006-2010 estimate of obesity</th>\n",
       "    </tr>\n",
       "  </thead>\n",
       "  <tbody>\n",
       "    <tr>\n",
       "      <th>0</th>\n",
       "      <td>Pennsylvania</td>\n",
       "      <td>42003010300</td>\n",
       "      <td>10300</td>\n",
       "      <td>NaN</td>\n",
       "      <td>PITTSBURGH</td>\n",
       "      <td>Pittsburgh</td>\n",
       "      <td>Bluff</td>\n",
       "      <td>0.246936</td>\n",
       "    </tr>\n",
       "    <tr>\n",
       "      <th>1</th>\n",
       "      <td>Pennsylvania</td>\n",
       "      <td>42003020100</td>\n",
       "      <td>20100</td>\n",
       "      <td>NaN</td>\n",
       "      <td>PITTSBURGH</td>\n",
       "      <td>Pittsburgh</td>\n",
       "      <td>Central Business District</td>\n",
       "      <td>0.668012</td>\n",
       "    </tr>\n",
       "    <tr>\n",
       "      <th>2</th>\n",
       "      <td>Pennsylvania</td>\n",
       "      <td>42003020300</td>\n",
       "      <td>20300</td>\n",
       "      <td>NaN</td>\n",
       "      <td>PITTSBURGH</td>\n",
       "      <td>Pittsburgh</td>\n",
       "      <td>Strip District</td>\n",
       "      <td>0.369996</td>\n",
       "    </tr>\n",
       "    <tr>\n",
       "      <th>3</th>\n",
       "      <td>Pennsylvania</td>\n",
       "      <td>42003030500</td>\n",
       "      <td>30500</td>\n",
       "      <td>NaN</td>\n",
       "      <td>PITTSBURGH</td>\n",
       "      <td>Pittsburgh</td>\n",
       "      <td>Crawford Roberts</td>\n",
       "      <td>0.488691</td>\n",
       "    </tr>\n",
       "    <tr>\n",
       "      <th>4</th>\n",
       "      <td>Pennsylvania</td>\n",
       "      <td>42003040200</td>\n",
       "      <td>40200</td>\n",
       "      <td>NaN</td>\n",
       "      <td>PITTSBURGH</td>\n",
       "      <td>Pittsburgh</td>\n",
       "      <td>West oakland</td>\n",
       "      <td>0.366391</td>\n",
       "    </tr>\n",
       "    <tr>\n",
       "      <th>...</th>\n",
       "      <td>...</td>\n",
       "      <td>...</td>\n",
       "      <td>...</td>\n",
       "      <td>...</td>\n",
       "      <td>...</td>\n",
       "      <td>...</td>\n",
       "      <td>...</td>\n",
       "      <td>...</td>\n",
       "    </tr>\n",
       "    <tr>\n",
       "      <th>410</th>\n",
       "      <td>Pennsylvania</td>\n",
       "      <td>42003980000</td>\n",
       "      <td>120200</td>\n",
       "      <td>561900, 980000 &amp; 981800</td>\n",
       "      <td>PITTSBURGH</td>\n",
       "      <td>Pittsburgh</td>\n",
       "      <td>Lincoln-Lemington-Belmar</td>\n",
       "      <td>0.525315</td>\n",
       "    </tr>\n",
       "    <tr>\n",
       "      <th>411</th>\n",
       "      <td>Pennsylvania</td>\n",
       "      <td>42003980600</td>\n",
       "      <td>210800</td>\n",
       "      <td>980600</td>\n",
       "      <td>PITTSBURGH</td>\n",
       "      <td>Pittsburgh</td>\n",
       "      <td>Chateau</td>\n",
       "      <td>0.439386</td>\n",
       "    </tr>\n",
       "    <tr>\n",
       "      <th>412</th>\n",
       "      <td>Pennsylvania</td>\n",
       "      <td>42003980700</td>\n",
       "      <td>192100</td>\n",
       "      <td>980700</td>\n",
       "      <td>PITTSBURGH</td>\n",
       "      <td>Pittsburgh</td>\n",
       "      <td>South Shore</td>\n",
       "      <td>0.354375</td>\n",
       "    </tr>\n",
       "    <tr>\n",
       "      <th>413</th>\n",
       "      <td>Pennsylvania</td>\n",
       "      <td>42003981200</td>\n",
       "      <td>220500</td>\n",
       "      <td>563200 &amp; 981200</td>\n",
       "      <td>PITTSBURGH</td>\n",
       "      <td>Pittsburgh</td>\n",
       "      <td>North Shore</td>\n",
       "      <td>0.121487</td>\n",
       "    </tr>\n",
       "    <tr>\n",
       "      <th>414</th>\n",
       "      <td>Pennsylvania</td>\n",
       "      <td>42003981800</td>\n",
       "      <td>120300</td>\n",
       "      <td>NaN</td>\n",
       "      <td>PITTSBURGH</td>\n",
       "      <td>Pittsburgh</td>\n",
       "      <td>Lincoln-Lemington-Belmar</td>\n",
       "      <td>0.574293</td>\n",
       "    </tr>\n",
       "  </tbody>\n",
       "</table>\n",
       "<p>403 rows × 8 columns</p>\n",
       "</div>"
      ],
      "text/plain": [
       "           stname    tractfips  2000 Tract               2010 Tract  \\\n",
       "0    Pennsylvania  42003010300       10300                      NaN   \n",
       "1    Pennsylvania  42003020100       20100                      NaN   \n",
       "2    Pennsylvania  42003020300       20300                      NaN   \n",
       "3    Pennsylvania  42003030500       30500                      NaN   \n",
       "4    Pennsylvania  42003040200       40200                      NaN   \n",
       "..            ...          ...         ...                      ...   \n",
       "410  Pennsylvania  42003980000      120200  561900, 980000 & 981800   \n",
       "411  Pennsylvania  42003980600      210800                   980600   \n",
       "412  Pennsylvania  42003980700      192100                   980700   \n",
       "413  Pennsylvania  42003981200      220500          563200 & 981200   \n",
       "414  Pennsylvania  42003981800      120300                      NaN   \n",
       "\n",
       "     MUNICIPALITY  Municipality          City Neighborhood  \\\n",
       "0    PITTSBURGH    Pittsburgh                        Bluff   \n",
       "1    PITTSBURGH    Pittsburgh    Central Business District   \n",
       "2    PITTSBURGH    Pittsburgh               Strip District   \n",
       "3    PITTSBURGH    Pittsburgh             Crawford Roberts   \n",
       "4    PITTSBURGH    Pittsburgh                 West oakland   \n",
       "..            ...           ...                        ...   \n",
       "410  PITTSBURGH    Pittsburgh     Lincoln-Lemington-Belmar   \n",
       "411  PITTSBURGH    Pittsburgh                      Chateau   \n",
       "412  PITTSBURGH    Pittsburgh                  South Shore   \n",
       "413  PITTSBURGH    Pittsburgh                  North Shore   \n",
       "414  PITTSBURGH    Pittsburgh     Lincoln-Lemington-Belmar   \n",
       "\n",
       "     2006-2010 estimate of obesity  \n",
       "0                         0.246936  \n",
       "1                         0.668012  \n",
       "2                         0.369996  \n",
       "3                         0.488691  \n",
       "4                         0.366391  \n",
       "..                             ...  \n",
       "410                       0.525315  \n",
       "411                       0.439386  \n",
       "412                       0.354375  \n",
       "413                       0.121487  \n",
       "414                       0.574293  \n",
       "\n",
       "[403 rows x 8 columns]"
      ]
     },
     "execution_count": 4,
     "metadata": {},
     "output_type": "execute_result"
    }
   ],
   "source": [
    "obesityRates"
   ]
  },
  {
   "cell_type": "markdown",
   "metadata": {},
   "source": [
    "This code is dropping some unnecessary columns."
   ]
  },
  {
   "cell_type": "code",
   "execution_count": 5,
   "metadata": {},
   "outputs": [],
   "source": [
    "obesityRates = obesityRates.drop(['tractfips', '2000 Tract', '2010 Tract', 'MUNICIPALITY','Municipality'], axis=1) "
   ]
  },
  {
   "cell_type": "markdown",
   "metadata": {},
   "source": [
    "This is giving me just the front 10 in the data set."
   ]
  },
  {
   "cell_type": "code",
   "execution_count": 5,
   "metadata": {},
   "outputs": [
    {
     "data": {
      "text/html": [
       "<div>\n",
       "<style scoped>\n",
       "    .dataframe tbody tr th:only-of-type {\n",
       "        vertical-align: middle;\n",
       "    }\n",
       "\n",
       "    .dataframe tbody tr th {\n",
       "        vertical-align: top;\n",
       "    }\n",
       "\n",
       "    .dataframe thead th {\n",
       "        text-align: right;\n",
       "    }\n",
       "</style>\n",
       "<table border=\"1\" class=\"dataframe\">\n",
       "  <thead>\n",
       "    <tr style=\"text-align: right;\">\n",
       "      <th></th>\n",
       "      <th>stname</th>\n",
       "      <th>City Neighborhood</th>\n",
       "      <th>2006-2010 estimate of obesity</th>\n",
       "    </tr>\n",
       "  </thead>\n",
       "  <tbody>\n",
       "    <tr>\n",
       "      <th>0</th>\n",
       "      <td>Pennsylvania</td>\n",
       "      <td>Bluff</td>\n",
       "      <td>0.246936</td>\n",
       "    </tr>\n",
       "    <tr>\n",
       "      <th>1</th>\n",
       "      <td>Pennsylvania</td>\n",
       "      <td>Central Business District</td>\n",
       "      <td>0.668012</td>\n",
       "    </tr>\n",
       "    <tr>\n",
       "      <th>2</th>\n",
       "      <td>Pennsylvania</td>\n",
       "      <td>Strip District</td>\n",
       "      <td>0.369996</td>\n",
       "    </tr>\n",
       "    <tr>\n",
       "      <th>3</th>\n",
       "      <td>Pennsylvania</td>\n",
       "      <td>Crawford Roberts</td>\n",
       "      <td>0.488691</td>\n",
       "    </tr>\n",
       "    <tr>\n",
       "      <th>4</th>\n",
       "      <td>Pennsylvania</td>\n",
       "      <td>West oakland</td>\n",
       "      <td>0.366391</td>\n",
       "    </tr>\n",
       "    <tr>\n",
       "      <th>6</th>\n",
       "      <td>Pennsylvania</td>\n",
       "      <td>Central Oakland</td>\n",
       "      <td>0.112780</td>\n",
       "    </tr>\n",
       "    <tr>\n",
       "      <th>8</th>\n",
       "      <td>Pennsylvania</td>\n",
       "      <td>South Oakland</td>\n",
       "      <td>0.281331</td>\n",
       "    </tr>\n",
       "    <tr>\n",
       "      <th>9</th>\n",
       "      <td>Pennsylvania</td>\n",
       "      <td>Middle Hill</td>\n",
       "      <td>0.608099</td>\n",
       "    </tr>\n",
       "    <tr>\n",
       "      <th>10</th>\n",
       "      <td>Pennsylvania</td>\n",
       "      <td>Upper Hill</td>\n",
       "      <td>0.455786</td>\n",
       "    </tr>\n",
       "    <tr>\n",
       "      <th>11</th>\n",
       "      <td>Pennsylvania</td>\n",
       "      <td>Bedford Dwellings</td>\n",
       "      <td>0.636222</td>\n",
       "    </tr>\n",
       "  </tbody>\n",
       "</table>\n",
       "</div>"
      ],
      "text/plain": [
       "          stname          City Neighborhood  2006-2010 estimate of obesity\n",
       "0   Pennsylvania                      Bluff                       0.246936\n",
       "1   Pennsylvania  Central Business District                       0.668012\n",
       "2   Pennsylvania             Strip District                       0.369996\n",
       "3   Pennsylvania           Crawford Roberts                       0.488691\n",
       "4   Pennsylvania               West oakland                       0.366391\n",
       "6   Pennsylvania            Central Oakland                       0.112780\n",
       "8   Pennsylvania              South Oakland                       0.281331\n",
       "9   Pennsylvania                Middle Hill                       0.608099\n",
       "10  Pennsylvania                 Upper Hill                       0.455786\n",
       "11  Pennsylvania          Bedford Dwellings                       0.636222"
      ]
     },
     "execution_count": 5,
     "metadata": {},
     "output_type": "execute_result"
    }
   ],
   "source": [
    "obesityRates.head(10)"
   ]
  },
  {
   "cell_type": "markdown",
   "metadata": {},
   "source": [
    "The dropna() function drops any values that were not available."
   ]
  },
  {
   "cell_type": "code",
   "execution_count": 6,
   "metadata": {},
   "outputs": [],
   "source": [
    "obesityRates = obesityRates.dropna()"
   ]
  },
  {
   "cell_type": "markdown",
   "metadata": {},
   "source": [
    "The sort_vales function sorts the data from least to greatest using the column \"2006-2010 estimate of obesity\"."
   ]
  },
  {
   "cell_type": "code",
   "execution_count": 7,
   "metadata": {},
   "outputs": [],
   "source": [
    "obesityRates = obesityRates.sort_values('2006-2010 estimate of obesity')"
   ]
  },
  {
   "cell_type": "markdown",
   "metadata": {},
   "source": [
    "Here I printed out the first 10 values again, with the now sorted data set."
   ]
  },
  {
   "cell_type": "code",
   "execution_count": 8,
   "metadata": {},
   "outputs": [
    {
     "data": {
      "text/html": [
       "<div>\n",
       "<style scoped>\n",
       "    .dataframe tbody tr th:only-of-type {\n",
       "        vertical-align: middle;\n",
       "    }\n",
       "\n",
       "    .dataframe tbody tr th {\n",
       "        vertical-align: top;\n",
       "    }\n",
       "\n",
       "    .dataframe thead th {\n",
       "        text-align: right;\n",
       "    }\n",
       "</style>\n",
       "<table border=\"1\" class=\"dataframe\">\n",
       "  <thead>\n",
       "    <tr style=\"text-align: right;\">\n",
       "      <th></th>\n",
       "      <th>stname</th>\n",
       "      <th>City Neighborhood</th>\n",
       "      <th>2006-2010 estimate of obesity</th>\n",
       "    </tr>\n",
       "  </thead>\n",
       "  <tbody>\n",
       "    <tr>\n",
       "      <th>369</th>\n",
       "      <td>Pennsylvania</td>\n",
       "      <td>North Oakland</td>\n",
       "      <td>0.070353</td>\n",
       "    </tr>\n",
       "    <tr>\n",
       "      <th>48</th>\n",
       "      <td>Pennsylvania</td>\n",
       "      <td>Squirrel Hill North</td>\n",
       "      <td>0.080288</td>\n",
       "    </tr>\n",
       "    <tr>\n",
       "      <th>6</th>\n",
       "      <td>Pennsylvania</td>\n",
       "      <td>Central Oakland</td>\n",
       "      <td>0.112780</td>\n",
       "    </tr>\n",
       "    <tr>\n",
       "      <th>18</th>\n",
       "      <td>Pennsylvania</td>\n",
       "      <td>Shadyside</td>\n",
       "      <td>0.118533</td>\n",
       "    </tr>\n",
       "    <tr>\n",
       "      <th>413</th>\n",
       "      <td>Pennsylvania</td>\n",
       "      <td>North Shore</td>\n",
       "      <td>0.121487</td>\n",
       "    </tr>\n",
       "    <tr>\n",
       "      <th>51</th>\n",
       "      <td>Pennsylvania</td>\n",
       "      <td>Point Breeze</td>\n",
       "      <td>0.148784</td>\n",
       "    </tr>\n",
       "    <tr>\n",
       "      <th>54</th>\n",
       "      <td>Pennsylvania</td>\n",
       "      <td>Squirrel Hill South</td>\n",
       "      <td>0.159693</td>\n",
       "    </tr>\n",
       "    <tr>\n",
       "      <th>55</th>\n",
       "      <td>Pennsylvania</td>\n",
       "      <td>Regent Square</td>\n",
       "      <td>0.160133</td>\n",
       "    </tr>\n",
       "    <tr>\n",
       "      <th>23</th>\n",
       "      <td>Pennsylvania</td>\n",
       "      <td>Bloomfield</td>\n",
       "      <td>0.181224</td>\n",
       "    </tr>\n",
       "    <tr>\n",
       "      <th>378</th>\n",
       "      <td>Pennsylvania</td>\n",
       "      <td>Allegheny West</td>\n",
       "      <td>0.206399</td>\n",
       "    </tr>\n",
       "  </tbody>\n",
       "</table>\n",
       "</div>"
      ],
      "text/plain": [
       "           stname    City Neighborhood  2006-2010 estimate of obesity\n",
       "369  Pennsylvania        North Oakland                       0.070353\n",
       "48   Pennsylvania  Squirrel Hill North                       0.080288\n",
       "6    Pennsylvania      Central Oakland                       0.112780\n",
       "18   Pennsylvania            Shadyside                       0.118533\n",
       "413  Pennsylvania          North Shore                       0.121487\n",
       "51   Pennsylvania         Point Breeze                       0.148784\n",
       "54   Pennsylvania  Squirrel Hill South                       0.159693\n",
       "55   Pennsylvania        Regent Square                       0.160133\n",
       "23   Pennsylvania           Bloomfield                       0.181224\n",
       "378  Pennsylvania       Allegheny West                       0.206399"
      ]
     },
     "execution_count": 8,
     "metadata": {},
     "output_type": "execute_result"
    }
   ],
   "source": [
    "obesityRates.head(10)"
   ]
  },
  {
   "cell_type": "code",
   "execution_count": 6,
   "metadata": {},
   "outputs": [
    {
     "ename": "SyntaxError",
     "evalue": "invalid syntax (<ipython-input-6-956f9147567c>, line 1)",
     "output_type": "error",
     "traceback": [
      "\u001b[0;36m  File \u001b[0;32m\"<ipython-input-6-956f9147567c>\"\u001b[0;36m, line \u001b[0;32m1\u001b[0m\n\u001b[0;31m    For a visual, I used the plot.bar() function to create a bar graph showing the top 10 best neighborhoods according to my metric.\u001b[0m\n\u001b[0m        ^\u001b[0m\n\u001b[0;31mSyntaxError\u001b[0m\u001b[0;31m:\u001b[0m invalid syntax\n"
     ]
    }
   ],
   "source": [
    "For a visual, I used the plot.bar() function to create a bar graph showing the top 10 best neighborhoods according to my metric."
   ]
  },
  {
   "cell_type": "code",
   "execution_count": 9,
   "metadata": {},
   "outputs": [
    {
     "data": {
      "text/plain": [
       "<matplotlib.axes._subplots.AxesSubplot at 0x7ff49cac3640>"
      ]
     },
     "execution_count": 9,
     "metadata": {},
     "output_type": "execute_result"
    },
    {
     "data": {
      "image/png": "[encoded data removed]",
      "text/plain": [
       "<Figure size 432x288 with 1 Axes>"
      ]
     },
     "metadata": {
      "needs_background": "light"
     },
     "output_type": "display_data"
    }
   ],
   "source": [
    "obesityRates[:10].plot.bar(x='City Neighborhood')"
   ]
  },
  {
   "cell_type": "markdown",
   "metadata": {},
   "source": [
    "## The Best Neighborhood\n",
    "Using the metric that I have created and data including the obesity rates of neighborhoods in Allegheny County, the best nieghborhood is North Oakland. North Oakland has the lowest obesity rate at 0.070353.\n",
    "## Conclusion\n",
    "In sum, we have condluded that the best neighborhood is the healthiest neighborhood. If we were to actually find the healthiet neighborhood it would require a lot more datasets, however simply based on my metric, the best nighborhood is North Oakland. Personally, I wouldn't say that the overall best neighborhood is dependent on simply health. However, with my limited experience of Pittsburgh, I really enjoy and appreciate North Oakland, so I would argue that this is correct."
   ]
  },
  {
   "cell_type": "code",
   "execution_count": null,
   "metadata": {},
   "outputs": [],
   "source": []
  }
 ],
 "metadata": {
  "kernelspec": {
   "display_name": "Python 3",
   "language": "python",
   "name": "python3"
  },
  "language_info": {
   "codemirror_mode": {
    "name": "ipython",
    "version": 3
   },
   "file_extension": ".py",
   "mimetype": "text/x-python",
   "name": "python",
   "nbconvert_exporter": "python",
   "pygments_lexer": "ipython3",
   "version": "3.8.3"
  }
 },
 "nbformat": 4,
 "nbformat_minor": 4
}

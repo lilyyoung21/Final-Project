{
 "cells": [
  {
   "cell_type": "markdown",
   "metadata": {},
   "source": [
    "# Cade's Metric"
   ]
  },
  {
   "cell_type": "markdown",
   "metadata": {},
   "source": [
    "## Introduction"
   ]
  },
  {
   "cell_type": "markdown",
   "metadata": {},
   "source": [
    "Our group decided that there are many different ways that we could determine what should be considered the \"best\" neighborhood in Pittsburgh.  We determined that \"bestness\" should be decided based upon how healthy each neighborhood is.  Therefore, the healthiest neighborhood will be the \"best\" neighborhood in Pittsburg.  For my metric, I decided to look at the amount of covid cases each neighborhood had and determine the ratio of positive cases to total amount of individuals tested.  The neighborhood with the lowest ratio will be considered the healthiest neighborhood for my metric."
   ]
  },
  {
   "cell_type": "code",
   "execution_count": 1,
   "metadata": {},
   "outputs": [],
   "source": [
    "import pandas as pd\n",
    "import matplotlib.pyplot as plt      ##importing pandas and matplotlib\n",
    "%matplotlib inline"
   ]
  },
  {
   "cell_type": "code",
   "execution_count": 2,
   "metadata": {},
   "outputs": [],
   "source": [
    "df = pd.read_csv('covid_19_cases_by_place.csv')    ##reading in the csv file"
   ]
  },
  {
   "cell_type": "code",
   "execution_count": 3,
   "metadata": {},
   "outputs": [
    {
     "data": {
      "text/html": [
       "<div>\n",
       "<style scoped>\n",
       "    .dataframe tbody tr th:only-of-type {\n",
       "        vertical-align: middle;\n",
       "    }\n",
       "\n",
       "    .dataframe tbody tr th {\n",
       "        vertical-align: top;\n",
       "    }\n",
       "\n",
       "    .dataframe thead th {\n",
       "        text-align: right;\n",
       "    }\n",
       "</style>\n",
       "<table border=\"1\" class=\"dataframe\">\n",
       "  <thead>\n",
       "    <tr style=\"text-align: right;\">\n",
       "      <th></th>\n",
       "      <th>neighborhood_municipality</th>\n",
       "      <th>indv_tested</th>\n",
       "      <th>cases</th>\n",
       "      <th>deaths</th>\n",
       "      <th>update_date</th>\n",
       "    </tr>\n",
       "  </thead>\n",
       "  <tbody>\n",
       "    <tr>\n",
       "      <th>0</th>\n",
       "      <td>Aleppo</td>\n",
       "      <td>612</td>\n",
       "      <td>110</td>\n",
       "      <td>9</td>\n",
       "      <td>2021-04-05</td>\n",
       "    </tr>\n",
       "    <tr>\n",
       "      <th>1</th>\n",
       "      <td>Allegheny Center (Pittsburgh)</td>\n",
       "      <td>486</td>\n",
       "      <td>98</td>\n",
       "      <td>5</td>\n",
       "      <td>2021-04-05</td>\n",
       "    </tr>\n",
       "    <tr>\n",
       "      <th>2</th>\n",
       "      <td>Allegheny West (Pittsburgh)</td>\n",
       "      <td>216</td>\n",
       "      <td>28</td>\n",
       "      <td>0</td>\n",
       "      <td>2021-04-05</td>\n",
       "    </tr>\n",
       "    <tr>\n",
       "      <th>3</th>\n",
       "      <td>Allentown (Pittsburgh)</td>\n",
       "      <td>734</td>\n",
       "      <td>130</td>\n",
       "      <td>0</td>\n",
       "      <td>2021-04-05</td>\n",
       "    </tr>\n",
       "    <tr>\n",
       "      <th>4</th>\n",
       "      <td>Arlington (Pittsburgh)</td>\n",
       "      <td>537</td>\n",
       "      <td>116</td>\n",
       "      <td>5</td>\n",
       "      <td>2021-04-05</td>\n",
       "    </tr>\n",
       "    <tr>\n",
       "      <th>...</th>\n",
       "      <td>...</td>\n",
       "      <td>...</td>\n",
       "      <td>...</td>\n",
       "      <td>...</td>\n",
       "      <td>...</td>\n",
       "    </tr>\n",
       "    <tr>\n",
       "      <th>216</th>\n",
       "      <td>Whitehall</td>\n",
       "      <td>5318</td>\n",
       "      <td>1554</td>\n",
       "      <td>46</td>\n",
       "      <td>2021-04-05</td>\n",
       "    </tr>\n",
       "    <tr>\n",
       "      <th>217</th>\n",
       "      <td>Wilkins</td>\n",
       "      <td>2115</td>\n",
       "      <td>436</td>\n",
       "      <td>6</td>\n",
       "      <td>2021-04-05</td>\n",
       "    </tr>\n",
       "    <tr>\n",
       "      <th>218</th>\n",
       "      <td>Wilkinsburg</td>\n",
       "      <td>5576</td>\n",
       "      <td>929</td>\n",
       "      <td>29</td>\n",
       "      <td>2021-04-05</td>\n",
       "    </tr>\n",
       "    <tr>\n",
       "      <th>219</th>\n",
       "      <td>Wilmerding</td>\n",
       "      <td>535</td>\n",
       "      <td>119</td>\n",
       "      <td>1</td>\n",
       "      <td>2021-04-05</td>\n",
       "    </tr>\n",
       "    <tr>\n",
       "      <th>220</th>\n",
       "      <td>Windgap (Pittsburgh)</td>\n",
       "      <td>395</td>\n",
       "      <td>79</td>\n",
       "      <td>1</td>\n",
       "      <td>2021-04-05</td>\n",
       "    </tr>\n",
       "  </tbody>\n",
       "</table>\n",
       "<p>221 rows × 5 columns</p>\n",
       "</div>"
      ],
      "text/plain": [
       "         neighborhood_municipality  indv_tested  cases  deaths update_date\n",
       "0                           Aleppo          612    110       9  2021-04-05\n",
       "1    Allegheny Center (Pittsburgh)          486     98       5  2021-04-05\n",
       "2      Allegheny West (Pittsburgh)          216     28       0  2021-04-05\n",
       "3           Allentown (Pittsburgh)          734    130       0  2021-04-05\n",
       "4           Arlington (Pittsburgh)          537    116       5  2021-04-05\n",
       "..                             ...          ...    ...     ...         ...\n",
       "216                      Whitehall         5318   1554      46  2021-04-05\n",
       "217                        Wilkins         2115    436       6  2021-04-05\n",
       "218                    Wilkinsburg         5576    929      29  2021-04-05\n",
       "219                     Wilmerding          535    119       1  2021-04-05\n",
       "220           Windgap (Pittsburgh)          395     79       1  2021-04-05\n",
       "\n",
       "[221 rows x 5 columns]"
      ]
     },
     "execution_count": 3,
     "metadata": {},
     "output_type": "execute_result"
    }
   ],
   "source": [
    "df   ##checking to see if csv was imported correctly"
   ]
  },
  {
   "cell_type": "code",
   "execution_count": 4,
   "metadata": {},
   "outputs": [
    {
     "data": {
      "text/html": [
       "<div>\n",
       "<style scoped>\n",
       "    .dataframe tbody tr th:only-of-type {\n",
       "        vertical-align: middle;\n",
       "    }\n",
       "\n",
       "    .dataframe tbody tr th {\n",
       "        vertical-align: top;\n",
       "    }\n",
       "\n",
       "    .dataframe thead th {\n",
       "        text-align: right;\n",
       "    }\n",
       "</style>\n",
       "<table border=\"1\" class=\"dataframe\">\n",
       "  <thead>\n",
       "    <tr style=\"text-align: right;\">\n",
       "      <th></th>\n",
       "      <th>neighborhood_municipality</th>\n",
       "      <th>indv_tested</th>\n",
       "      <th>cases</th>\n",
       "      <th>deaths</th>\n",
       "      <th>update_date</th>\n",
       "    </tr>\n",
       "  </thead>\n",
       "  <tbody>\n",
       "    <tr>\n",
       "      <th>0</th>\n",
       "      <td>Aleppo</td>\n",
       "      <td>612</td>\n",
       "      <td>110</td>\n",
       "      <td>9</td>\n",
       "      <td>2021-04-05</td>\n",
       "    </tr>\n",
       "    <tr>\n",
       "      <th>1</th>\n",
       "      <td>Allegheny Center (Pittsburgh)</td>\n",
       "      <td>486</td>\n",
       "      <td>98</td>\n",
       "      <td>5</td>\n",
       "      <td>2021-04-05</td>\n",
       "    </tr>\n",
       "    <tr>\n",
       "      <th>2</th>\n",
       "      <td>Allegheny West (Pittsburgh)</td>\n",
       "      <td>216</td>\n",
       "      <td>28</td>\n",
       "      <td>0</td>\n",
       "      <td>2021-04-05</td>\n",
       "    </tr>\n",
       "    <tr>\n",
       "      <th>3</th>\n",
       "      <td>Allentown (Pittsburgh)</td>\n",
       "      <td>734</td>\n",
       "      <td>130</td>\n",
       "      <td>0</td>\n",
       "      <td>2021-04-05</td>\n",
       "    </tr>\n",
       "    <tr>\n",
       "      <th>4</th>\n",
       "      <td>Arlington (Pittsburgh)</td>\n",
       "      <td>537</td>\n",
       "      <td>116</td>\n",
       "      <td>5</td>\n",
       "      <td>2021-04-05</td>\n",
       "    </tr>\n",
       "    <tr>\n",
       "      <th>5</th>\n",
       "      <td>Arlington Heights (Pittsburgh)</td>\n",
       "      <td>77</td>\n",
       "      <td>9</td>\n",
       "      <td>2</td>\n",
       "      <td>2021-04-05</td>\n",
       "    </tr>\n",
       "    <tr>\n",
       "      <th>6</th>\n",
       "      <td>Aspinwall</td>\n",
       "      <td>1030</td>\n",
       "      <td>148</td>\n",
       "      <td>1</td>\n",
       "      <td>2021-04-05</td>\n",
       "    </tr>\n",
       "    <tr>\n",
       "      <th>7</th>\n",
       "      <td>Avalon</td>\n",
       "      <td>1533</td>\n",
       "      <td>304</td>\n",
       "      <td>9</td>\n",
       "      <td>2021-04-05</td>\n",
       "    </tr>\n",
       "    <tr>\n",
       "      <th>8</th>\n",
       "      <td>Baldwin Borough</td>\n",
       "      <td>7526</td>\n",
       "      <td>2295</td>\n",
       "      <td>48</td>\n",
       "      <td>2021-04-05</td>\n",
       "    </tr>\n",
       "    <tr>\n",
       "      <th>9</th>\n",
       "      <td>Baldwin Township</td>\n",
       "      <td>647</td>\n",
       "      <td>156</td>\n",
       "      <td>1</td>\n",
       "      <td>2021-04-05</td>\n",
       "    </tr>\n",
       "  </tbody>\n",
       "</table>\n",
       "</div>"
      ],
      "text/plain": [
       "        neighborhood_municipality  indv_tested  cases  deaths update_date\n",
       "0                          Aleppo          612    110       9  2021-04-05\n",
       "1   Allegheny Center (Pittsburgh)          486     98       5  2021-04-05\n",
       "2     Allegheny West (Pittsburgh)          216     28       0  2021-04-05\n",
       "3          Allentown (Pittsburgh)          734    130       0  2021-04-05\n",
       "4          Arlington (Pittsburgh)          537    116       5  2021-04-05\n",
       "5  Arlington Heights (Pittsburgh)           77      9       2  2021-04-05\n",
       "6                       Aspinwall         1030    148       1  2021-04-05\n",
       "7                          Avalon         1533    304       9  2021-04-05\n",
       "8                 Baldwin Borough         7526   2295      48  2021-04-05\n",
       "9                Baldwin Township          647    156       1  2021-04-05"
      ]
     },
     "execution_count": 4,
     "metadata": {},
     "output_type": "execute_result"
    }
   ],
   "source": [
    "df.head(10)   ##printing out first 10 elements of csv"
   ]
  },
  {
   "cell_type": "code",
   "execution_count": 5,
   "metadata": {},
   "outputs": [
    {
     "data": {
      "text/plain": [
       "neighborhood_municipality     Undefined\n",
       "indv_tested                       20561\n",
       "cases                              1661\n",
       "deaths                               27\n",
       "update_date                  2021-04-05\n",
       "Name: 198, dtype: object"
      ]
     },
     "execution_count": 5,
     "metadata": {},
     "output_type": "execute_result"
    }
   ],
   "source": [
    "df.iloc[198]  ##showing undefined rows"
   ]
  },
  {
   "cell_type": "code",
   "execution_count": 6,
   "metadata": {},
   "outputs": [
    {
     "data": {
      "text/plain": [
       "neighborhood_municipality    Undefined (Pittsburgh)\n",
       "indv_tested                                      19\n",
       "cases                                             3\n",
       "deaths                                            0\n",
       "update_date                              2021-04-05\n",
       "Name: 199, dtype: object"
      ]
     },
     "execution_count": 6,
     "metadata": {},
     "output_type": "execute_result"
    }
   ],
   "source": [
    "df.iloc[199]  ##showing undefined rows"
   ]
  },
  {
   "cell_type": "code",
   "execution_count": 7,
   "metadata": {},
   "outputs": [
    {
     "data": {
      "text/plain": [
       "neighborhood_municipality    Upper Hill (Pittsburgh)\n",
       "indv_tested                                      670\n",
       "cases                                            110\n",
       "deaths                                             4\n",
       "update_date                               2021-04-05\n",
       "Name: 200, dtype: object"
      ]
     },
     "execution_count": 7,
     "metadata": {},
     "output_type": "execute_result"
    }
   ],
   "source": [
    "df.drop(198, inplace = True)\n",
    "df.drop(199, inplace = True)   ##removed undefined rows\n",
    "df.iloc[198]         ##showing rows were removed successfully"
   ]
  },
  {
   "cell_type": "code",
   "execution_count": 8,
   "metadata": {},
   "outputs": [
    {
     "data": {
      "text/plain": [
       "neighborhood_municipality    Upper Lawrenceville (Pittsburgh)\n",
       "indv_tested                                              1059\n",
       "cases                                                     128\n",
       "deaths                                                      2\n",
       "update_date                                        2021-04-05\n",
       "Name: 201, dtype: object"
      ]
     },
     "execution_count": 8,
     "metadata": {},
     "output_type": "execute_result"
    }
   ],
   "source": [
    "df.iloc[199]   ##showing rows were removed successfully"
   ]
  },
  {
   "cell_type": "markdown",
   "metadata": {},
   "source": [
    "#removes cases, deaths,and update_date columns from table"
   ]
  },
  {
   "cell_type": "code",
   "execution_count": 9,
   "metadata": {},
   "outputs": [
    {
     "data": {
      "text/html": [
       "<div>\n",
       "<style scoped>\n",
       "    .dataframe tbody tr th:only-of-type {\n",
       "        vertical-align: middle;\n",
       "    }\n",
       "\n",
       "    .dataframe tbody tr th {\n",
       "        vertical-align: top;\n",
       "    }\n",
       "\n",
       "    .dataframe thead th {\n",
       "        text-align: right;\n",
       "    }\n",
       "</style>\n",
       "<table border=\"1\" class=\"dataframe\">\n",
       "  <thead>\n",
       "    <tr style=\"text-align: right;\">\n",
       "      <th></th>\n",
       "      <th>neighborhood_municipality</th>\n",
       "      <th>indv_tested</th>\n",
       "    </tr>\n",
       "  </thead>\n",
       "  <tbody>\n",
       "    <tr>\n",
       "      <th>0</th>\n",
       "      <td>Aleppo</td>\n",
       "      <td>612</td>\n",
       "    </tr>\n",
       "    <tr>\n",
       "      <th>1</th>\n",
       "      <td>Allegheny Center (Pittsburgh)</td>\n",
       "      <td>486</td>\n",
       "    </tr>\n",
       "    <tr>\n",
       "      <th>2</th>\n",
       "      <td>Allegheny West (Pittsburgh)</td>\n",
       "      <td>216</td>\n",
       "    </tr>\n",
       "    <tr>\n",
       "      <th>3</th>\n",
       "      <td>Allentown (Pittsburgh)</td>\n",
       "      <td>734</td>\n",
       "    </tr>\n",
       "    <tr>\n",
       "      <th>4</th>\n",
       "      <td>Arlington (Pittsburgh)</td>\n",
       "      <td>537</td>\n",
       "    </tr>\n",
       "    <tr>\n",
       "      <th>5</th>\n",
       "      <td>Arlington Heights (Pittsburgh)</td>\n",
       "      <td>77</td>\n",
       "    </tr>\n",
       "    <tr>\n",
       "      <th>6</th>\n",
       "      <td>Aspinwall</td>\n",
       "      <td>1030</td>\n",
       "    </tr>\n",
       "    <tr>\n",
       "      <th>7</th>\n",
       "      <td>Avalon</td>\n",
       "      <td>1533</td>\n",
       "    </tr>\n",
       "    <tr>\n",
       "      <th>8</th>\n",
       "      <td>Baldwin Borough</td>\n",
       "      <td>7526</td>\n",
       "    </tr>\n",
       "    <tr>\n",
       "      <th>9</th>\n",
       "      <td>Baldwin Township</td>\n",
       "      <td>647</td>\n",
       "    </tr>\n",
       "  </tbody>\n",
       "</table>\n",
       "</div>"
      ],
      "text/plain": [
       "        neighborhood_municipality  indv_tested\n",
       "0                          Aleppo          612\n",
       "1   Allegheny Center (Pittsburgh)          486\n",
       "2     Allegheny West (Pittsburgh)          216\n",
       "3          Allentown (Pittsburgh)          734\n",
       "4          Arlington (Pittsburgh)          537\n",
       "5  Arlington Heights (Pittsburgh)           77\n",
       "6                       Aspinwall         1030\n",
       "7                          Avalon         1533\n",
       "8                 Baldwin Borough         7526\n",
       "9                Baldwin Township          647"
      ]
     },
     "execution_count": 9,
     "metadata": {},
     "output_type": "execute_result"
    }
   ],
   "source": [
    "data_drop = df.drop(['cases', 'deaths', 'update_date'], axis=1) \n",
    "data_drop.head(10)"
   ]
  },
  {
   "cell_type": "markdown",
   "metadata": {},
   "source": [
    "#sorting the values to obtain the neighborhoods with the highest numbers of individuals tested"
   ]
  },
  {
   "cell_type": "code",
   "execution_count": 10,
   "metadata": {},
   "outputs": [
    {
     "data": {
      "text/html": [
       "<div>\n",
       "<style scoped>\n",
       "    .dataframe tbody tr th:only-of-type {\n",
       "        vertical-align: middle;\n",
       "    }\n",
       "\n",
       "    .dataframe tbody tr th {\n",
       "        vertical-align: top;\n",
       "    }\n",
       "\n",
       "    .dataframe thead th {\n",
       "        text-align: right;\n",
       "    }\n",
       "</style>\n",
       "<table border=\"1\" class=\"dataframe\">\n",
       "  <thead>\n",
       "    <tr style=\"text-align: right;\">\n",
       "      <th></th>\n",
       "      <th>neighborhood_municipality</th>\n",
       "      <th>indv_tested</th>\n",
       "    </tr>\n",
       "  </thead>\n",
       "  <tbody>\n",
       "    <tr>\n",
       "      <th>149</th>\n",
       "      <td>Pitcairn</td>\n",
       "      <td>10</td>\n",
       "    </tr>\n",
       "    <tr>\n",
       "      <th>195</th>\n",
       "      <td>Trafford</td>\n",
       "      <td>11</td>\n",
       "    </tr>\n",
       "    <tr>\n",
       "      <th>41</th>\n",
       "      <td>Chateau (Pittsburgh)</td>\n",
       "      <td>16</td>\n",
       "    </tr>\n",
       "    <tr>\n",
       "      <th>91</th>\n",
       "      <td>Haysville</td>\n",
       "      <td>19</td>\n",
       "    </tr>\n",
       "    <tr>\n",
       "      <th>185</th>\n",
       "      <td>St. Clair (Pittsburgh)</td>\n",
       "      <td>52</td>\n",
       "    </tr>\n",
       "    <tr>\n",
       "      <th>68</th>\n",
       "      <td>Esplen (Pittsburgh)</td>\n",
       "      <td>55</td>\n",
       "    </tr>\n",
       "    <tr>\n",
       "      <th>84</th>\n",
       "      <td>Glenfield</td>\n",
       "      <td>62</td>\n",
       "    </tr>\n",
       "    <tr>\n",
       "      <th>118</th>\n",
       "      <td>Mcdonald</td>\n",
       "      <td>76</td>\n",
       "    </tr>\n",
       "    <tr>\n",
       "      <th>5</th>\n",
       "      <td>Arlington Heights (Pittsburgh)</td>\n",
       "      <td>77</td>\n",
       "    </tr>\n",
       "    <tr>\n",
       "      <th>208</th>\n",
       "      <td>West End (Pittsburgh)</td>\n",
       "      <td>82</td>\n",
       "    </tr>\n",
       "  </tbody>\n",
       "</table>\n",
       "</div>"
      ],
      "text/plain": [
       "          neighborhood_municipality  indv_tested\n",
       "149                        Pitcairn           10\n",
       "195                        Trafford           11\n",
       "41             Chateau (Pittsburgh)           16\n",
       "91                        Haysville           19\n",
       "185          St. Clair (Pittsburgh)           52\n",
       "68              Esplen (Pittsburgh)           55\n",
       "84                        Glenfield           62\n",
       "118                        Mcdonald           76\n",
       "5    Arlington Heights (Pittsburgh)           77\n",
       "208           West End (Pittsburgh)           82"
      ]
     },
     "execution_count": 10,
     "metadata": {},
     "output_type": "execute_result"
    }
   ],
   "source": [
    "data_drop = data_drop.sort_values(by=['indv_tested'],axis=0,ascending=True,inplace=False,kind='quicksort',na_position='last',ignore_index=False,key=None).head(10)\n",
    "data_drop"
   ]
  },
  {
   "cell_type": "markdown",
   "metadata": {},
   "source": [
    "#sorting values into the data_drop variable\n",
    "\n",
    "#then it plots the first 10 of the sorted values\n",
    "\n",
    "#x = neighborhood_municipality\n",
    "\n",
    "#y = indv_tested\n",
    "\n",
    "#I assigned x and y labels to the correct variable and rotated the xlabel \n",
    "\n",
    "#to make it easier to read"
   ]
  },
  {
   "cell_type": "code",
   "execution_count": 11,
   "metadata": {},
   "outputs": [
    {
     "data": {
      "image/png": "[encoded data removed]",
      "text/plain": [
       "<Figure size 432x288 with 1 Axes>"
      ]
     },
     "metadata": {
      "needs_background": "light"
     },
     "output_type": "display_data"
    }
   ],
   "source": [
    "data_drop = data_drop.sort_values(by=['indv_tested'],axis=0,ascending=True,inplace=False,kind='quicksort',na_position='last',ignore_index=False,key=None).head(10)\n",
    "plt.bar(\"neighborhood_municipality\", \"indv_tested\", data=data_drop, color=\"blue\")\n",
    "plt.xlabel(\"neighborhood_municipality\")\n",
    "plt.xticks(rotation=90)\n",
    "plt.ylabel(\"indv_tested\")\n",
    "plt.title(\"Top 10 Highest Testing Count By Neighborhood\")\n",
    "plt.show()"
   ]
  },
  {
   "cell_type": "markdown",
   "metadata": {},
   "source": [
    "#removes indv_tested, deaths, and update_date columns from table"
   ]
  },
  {
   "cell_type": "code",
   "execution_count": 12,
   "metadata": {},
   "outputs": [
    {
     "data": {
      "text/html": [
       "<div>\n",
       "<style scoped>\n",
       "    .dataframe tbody tr th:only-of-type {\n",
       "        vertical-align: middle;\n",
       "    }\n",
       "\n",
       "    .dataframe tbody tr th {\n",
       "        vertical-align: top;\n",
       "    }\n",
       "\n",
       "    .dataframe thead th {\n",
       "        text-align: right;\n",
       "    }\n",
       "</style>\n",
       "<table border=\"1\" class=\"dataframe\">\n",
       "  <thead>\n",
       "    <tr style=\"text-align: right;\">\n",
       "      <th></th>\n",
       "      <th>neighborhood_municipality</th>\n",
       "      <th>cases</th>\n",
       "    </tr>\n",
       "  </thead>\n",
       "  <tbody>\n",
       "    <tr>\n",
       "      <th>0</th>\n",
       "      <td>Aleppo</td>\n",
       "      <td>110</td>\n",
       "    </tr>\n",
       "    <tr>\n",
       "      <th>1</th>\n",
       "      <td>Allegheny Center (Pittsburgh)</td>\n",
       "      <td>98</td>\n",
       "    </tr>\n",
       "    <tr>\n",
       "      <th>2</th>\n",
       "      <td>Allegheny West (Pittsburgh)</td>\n",
       "      <td>28</td>\n",
       "    </tr>\n",
       "    <tr>\n",
       "      <th>3</th>\n",
       "      <td>Allentown (Pittsburgh)</td>\n",
       "      <td>130</td>\n",
       "    </tr>\n",
       "    <tr>\n",
       "      <th>4</th>\n",
       "      <td>Arlington (Pittsburgh)</td>\n",
       "      <td>116</td>\n",
       "    </tr>\n",
       "    <tr>\n",
       "      <th>5</th>\n",
       "      <td>Arlington Heights (Pittsburgh)</td>\n",
       "      <td>9</td>\n",
       "    </tr>\n",
       "    <tr>\n",
       "      <th>6</th>\n",
       "      <td>Aspinwall</td>\n",
       "      <td>148</td>\n",
       "    </tr>\n",
       "    <tr>\n",
       "      <th>7</th>\n",
       "      <td>Avalon</td>\n",
       "      <td>304</td>\n",
       "    </tr>\n",
       "    <tr>\n",
       "      <th>8</th>\n",
       "      <td>Baldwin Borough</td>\n",
       "      <td>2295</td>\n",
       "    </tr>\n",
       "    <tr>\n",
       "      <th>9</th>\n",
       "      <td>Baldwin Township</td>\n",
       "      <td>156</td>\n",
       "    </tr>\n",
       "  </tbody>\n",
       "</table>\n",
       "</div>"
      ],
      "text/plain": [
       "        neighborhood_municipality  cases\n",
       "0                          Aleppo    110\n",
       "1   Allegheny Center (Pittsburgh)     98\n",
       "2     Allegheny West (Pittsburgh)     28\n",
       "3          Allentown (Pittsburgh)    130\n",
       "4          Arlington (Pittsburgh)    116\n",
       "5  Arlington Heights (Pittsburgh)      9\n",
       "6                       Aspinwall    148\n",
       "7                          Avalon    304\n",
       "8                 Baldwin Borough   2295\n",
       "9                Baldwin Township    156"
      ]
     },
     "execution_count": 12,
     "metadata": {},
     "output_type": "execute_result"
    }
   ],
   "source": [
    "data_drop2 = df.drop(['indv_tested', 'deaths', 'update_date'], axis=1)\n",
    "data_drop2.head(10)"
   ]
  },
  {
   "cell_type": "markdown",
   "metadata": {},
   "source": [
    "#sorting the values in cases column to obtain neighborhoods with the least amount of cases"
   ]
  },
  {
   "cell_type": "code",
   "execution_count": 13,
   "metadata": {},
   "outputs": [
    {
     "data": {
      "text/html": [
       "<div>\n",
       "<style scoped>\n",
       "    .dataframe tbody tr th:only-of-type {\n",
       "        vertical-align: middle;\n",
       "    }\n",
       "\n",
       "    .dataframe tbody tr th {\n",
       "        vertical-align: top;\n",
       "    }\n",
       "\n",
       "    .dataframe thead th {\n",
       "        text-align: right;\n",
       "    }\n",
       "</style>\n",
       "<table border=\"1\" class=\"dataframe\">\n",
       "  <thead>\n",
       "    <tr style=\"text-align: right;\">\n",
       "      <th></th>\n",
       "      <th>neighborhood_municipality</th>\n",
       "      <th>cases</th>\n",
       "    </tr>\n",
       "  </thead>\n",
       "  <tbody>\n",
       "    <tr>\n",
       "      <th>41</th>\n",
       "      <td>Chateau (Pittsburgh)</td>\n",
       "      <td>0</td>\n",
       "    </tr>\n",
       "    <tr>\n",
       "      <th>149</th>\n",
       "      <td>Pitcairn</td>\n",
       "      <td>1</td>\n",
       "    </tr>\n",
       "    <tr>\n",
       "      <th>91</th>\n",
       "      <td>Haysville</td>\n",
       "      <td>3</td>\n",
       "    </tr>\n",
       "    <tr>\n",
       "      <th>195</th>\n",
       "      <td>Trafford</td>\n",
       "      <td>5</td>\n",
       "    </tr>\n",
       "    <tr>\n",
       "      <th>185</th>\n",
       "      <td>St. Clair (Pittsburgh)</td>\n",
       "      <td>8</td>\n",
       "    </tr>\n",
       "    <tr>\n",
       "      <th>5</th>\n",
       "      <td>Arlington Heights (Pittsburgh)</td>\n",
       "      <td>9</td>\n",
       "    </tr>\n",
       "    <tr>\n",
       "      <th>175</th>\n",
       "      <td>South Shore (Pittsburgh)</td>\n",
       "      <td>12</td>\n",
       "    </tr>\n",
       "    <tr>\n",
       "      <th>163</th>\n",
       "      <td>Rosslyn Farms</td>\n",
       "      <td>14</td>\n",
       "    </tr>\n",
       "    <tr>\n",
       "      <th>68</th>\n",
       "      <td>Esplen (Pittsburgh)</td>\n",
       "      <td>15</td>\n",
       "    </tr>\n",
       "    <tr>\n",
       "      <th>84</th>\n",
       "      <td>Glenfield</td>\n",
       "      <td>15</td>\n",
       "    </tr>\n",
       "  </tbody>\n",
       "</table>\n",
       "</div>"
      ],
      "text/plain": [
       "          neighborhood_municipality  cases\n",
       "41             Chateau (Pittsburgh)      0\n",
       "149                        Pitcairn      1\n",
       "91                        Haysville      3\n",
       "195                        Trafford      5\n",
       "185          St. Clair (Pittsburgh)      8\n",
       "5    Arlington Heights (Pittsburgh)      9\n",
       "175        South Shore (Pittsburgh)     12\n",
       "163                   Rosslyn Farms     14\n",
       "68              Esplen (Pittsburgh)     15\n",
       "84                        Glenfield     15"
      ]
     },
     "execution_count": 13,
     "metadata": {},
     "output_type": "execute_result"
    }
   ],
   "source": [
    "data_drop2.sort_values(by=['cases'],axis=0,ascending=True,inplace=False,kind='quicksort',na_position='last',ignore_index=False,key=None).head(10)"
   ]
  },
  {
   "cell_type": "markdown",
   "metadata": {},
   "source": [
    "#sorts data_drop2 to obtain neighborhoods with least amount of cases\n",
    "\n",
    "#then it plots the first 10 of the sorted values\n",
    "\n",
    "#x = neighborhood_municipality\n",
    "\n",
    "#y = cases\n",
    "\n",
    "#I assigned x and y labels to the correct variable and rotated the xlabel\n",
    "\n",
    "#to make it easier to read"
   ]
  },
  {
   "cell_type": "code",
   "execution_count": 14,
   "metadata": {},
   "outputs": [
    {
     "data": {
      "image/png": "[encoded data removed]",
      "text/plain": [
       "<Figure size 432x288 with 1 Axes>"
      ]
     },
     "metadata": {
      "needs_background": "light"
     },
     "output_type": "display_data"
    }
   ],
   "source": [
    "data_drop2 = data_drop2.sort_values(by=['cases'],axis=0,ascending=True,inplace=False,kind='quicksort',na_position='last',ignore_index=False,key=None).head(10)\n",
    "plt.bar(\"neighborhood_municipality\", \"cases\", data=data_drop2, color=\"blue\")\n",
    "plt.xlabel(\"neighborhood_municipality\")\n",
    "plt.xticks(rotation=90)\n",
    "plt.ylabel(\"cases\")\n",
    "plt.title(\"Top 10 Highest Cases Count By Neighborhood\")\n",
    "plt.show()"
   ]
  },
  {
   "cell_type": "markdown",
   "metadata": {},
   "source": [
    "#first dropped deaths and update_date columns\n",
    "\n",
    "#created a new column called ratio, it is calculated from the value in cases\n",
    "\n",
    "#divided by the value in the indv_tested column\n",
    "\n",
    "#dropped the indv_tested and cases column and sorted the values in the ratio column"
   ]
  },
  {
   "cell_type": "code",
   "execution_count": 15,
   "metadata": {},
   "outputs": [
    {
     "data": {
      "text/html": [
       "<div>\n",
       "<style scoped>\n",
       "    .dataframe tbody tr th:only-of-type {\n",
       "        vertical-align: middle;\n",
       "    }\n",
       "\n",
       "    .dataframe tbody tr th {\n",
       "        vertical-align: top;\n",
       "    }\n",
       "\n",
       "    .dataframe thead th {\n",
       "        text-align: right;\n",
       "    }\n",
       "</style>\n",
       "<table border=\"1\" class=\"dataframe\">\n",
       "  <thead>\n",
       "    <tr style=\"text-align: right;\">\n",
       "      <th></th>\n",
       "      <th>neighborhood_municipality</th>\n",
       "      <th>ratio</th>\n",
       "    </tr>\n",
       "  </thead>\n",
       "  <tbody>\n",
       "    <tr>\n",
       "      <th>41</th>\n",
       "      <td>Chateau (Pittsburgh)</td>\n",
       "      <td>0.000000</td>\n",
       "    </tr>\n",
       "    <tr>\n",
       "      <th>183</th>\n",
       "      <td>Squirrel Hill North (Pittsburgh)</td>\n",
       "      <td>0.068670</td>\n",
       "    </tr>\n",
       "    <tr>\n",
       "      <th>63</th>\n",
       "      <td>Edgeworth</td>\n",
       "      <td>0.087537</td>\n",
       "    </tr>\n",
       "    <tr>\n",
       "      <th>152</th>\n",
       "      <td>Point Breeze (Pittsburgh)</td>\n",
       "      <td>0.088400</td>\n",
       "    </tr>\n",
       "    <tr>\n",
       "      <th>79</th>\n",
       "      <td>Friendship (Pittsburgh)</td>\n",
       "      <td>0.088548</td>\n",
       "    </tr>\n",
       "    <tr>\n",
       "      <th>168</th>\n",
       "      <td>Shadyside (Pittsburgh)</td>\n",
       "      <td>0.096041</td>\n",
       "    </tr>\n",
       "    <tr>\n",
       "      <th>62</th>\n",
       "      <td>Edgewood</td>\n",
       "      <td>0.098901</td>\n",
       "    </tr>\n",
       "    <tr>\n",
       "      <th>149</th>\n",
       "      <td>Pitcairn</td>\n",
       "      <td>0.100000</td>\n",
       "    </tr>\n",
       "    <tr>\n",
       "      <th>184</th>\n",
       "      <td>Squirrel Hill South (Pittsburgh)</td>\n",
       "      <td>0.101997</td>\n",
       "    </tr>\n",
       "    <tr>\n",
       "      <th>157</th>\n",
       "      <td>Regent Square (Pittsburgh)</td>\n",
       "      <td>0.103118</td>\n",
       "    </tr>\n",
       "  </tbody>\n",
       "</table>\n",
       "</div>"
      ],
      "text/plain": [
       "            neighborhood_municipality     ratio\n",
       "41               Chateau (Pittsburgh)  0.000000\n",
       "183  Squirrel Hill North (Pittsburgh)  0.068670\n",
       "63                          Edgeworth  0.087537\n",
       "152         Point Breeze (Pittsburgh)  0.088400\n",
       "79            Friendship (Pittsburgh)  0.088548\n",
       "168            Shadyside (Pittsburgh)  0.096041\n",
       "62                           Edgewood  0.098901\n",
       "149                          Pitcairn  0.100000\n",
       "184  Squirrel Hill South (Pittsburgh)  0.101997\n",
       "157        Regent Square (Pittsburgh)  0.103118"
      ]
     },
     "execution_count": 15,
     "metadata": {},
     "output_type": "execute_result"
    }
   ],
   "source": [
    "data_drop3 = df.drop(['deaths', 'update_date'], axis=1)\n",
    "data_drop3['ratio'] = data_drop3['cases'] / data_drop3['indv_tested']\n",
    "data_drop4 = data_drop3.drop(['indv_tested', 'cases'], axis=1)\n",
    "data_drop4.sort_values(by=['ratio'],axis=0,ascending=True,inplace=False,kind='quicksort',na_position='last',ignore_index=False,key=None).head(10)"
   ]
  },
  {
   "cell_type": "markdown",
   "metadata": {},
   "source": [
    "##sorted values in data_drop4\n",
    "\n",
    "##then it plots the first 10 of the sorted values\n",
    "\n",
    "##x = neighborhood_municipality\n",
    "\n",
    "##y = ratio\n",
    "\n",
    "##I assigned x and y labels to the correct variable and rotated the xlabel\n",
    "\n",
    "##to make it easier to read"
   ]
  },
  {
   "cell_type": "code",
   "execution_count": 16,
   "metadata": {},
   "outputs": [
    {
     "data": {
      "image/png": "[encoded data removed]",
      "text/plain": [
       "<Figure size 432x288 with 1 Axes>"
      ]
     },
     "metadata": {
      "needs_background": "light"
     },
     "output_type": "display_data"
    }
   ],
   "source": [
    "data_drop4 = data_drop4.sort_values(by=['ratio'],axis=0,ascending=True,inplace=False,kind='quicksort',na_position='last',ignore_index=False,key=None).head(10)\n",
    "plt.bar(\"neighborhood_municipality\", \"ratio\", data=data_drop4, color=\"blue\")\n",
    "plt.xlabel(\"neighborhood_municipality\")\n",
    "plt.xticks(rotation=90)\n",
    "plt.ylabel(\"ratio\")\n",
    "plt.title(\"Ratio of Number of Cases Per Individual Tested\")\n",
    "plt.show()"
   ]
  },
  {
   "cell_type": "markdown",
   "metadata": {},
   "source": [
    "## Conclusion"
   ]
  },
  {
   "cell_type": "markdown",
   "metadata": {},
   "source": [
    "Overall, I had to start by breaking down the original datset in order to obtain data that would be useful to compare between neighborhoods.  I decided to calculate the ratio of number of cases per individual tested in each neighborhood.  This statistic allowed me to even the playing field because certain neighborhoods tested more people than other neighborhoods, thus it would make sense they naturally had more positive tests because more people were tested.  After creating my ratio I found that the neighborhood of Chateau had the lowest ratio in comparison to the other neighborhoods.  Therefore, Chateau wins my metric of best neighborhood."
   ]
  },
  {
   "cell_type": "markdown",
   "metadata": {},
   "source": [
    "## Cade's Metric Winners:\n",
    "Chateau = 10\n",
    "\n",
    "Squirrel Hill North = 9\n",
    "\n",
    "Edgeworth = 8\n",
    "\n",
    "<img src=\"2.PNG\" alt=\"chart\">\n",
    "<img src=\"3.PNG\" alt=\"chart\">"
   ]
  },
  {
   "cell_type": "markdown",
   "metadata": {},
   "source": [
    "<img src=\"Capture.PNG\" alt=\"chart\">"
   ]
  },
  {
   "cell_type": "markdown",
   "metadata": {},
   "source": [
    "# Noah's Metric\n",
    "### Introduction\n",
    "\n",
    "For my metric I decided to use the \"Total Meadian Age of Death\". I originally wanted to use the total deaths but the data was not based off of where they died. So I instead decided to use the median age of death for my metric. The neighborhood with the highest median age was considered the best."
   ]
  },
  {
   "cell_type": "code",
   "execution_count": 2,
   "metadata": {},
   "outputs": [],
   "source": [
    "import pandas as pd\n",
    "import numpy as np\n",
    "import matplotlib as plt\n",
    "%matplotlib inline"
   ]
  },
  {
   "cell_type": "code",
   "execution_count": 3,
   "metadata": {},
   "outputs": [],
   "source": [
    "data = pd.read_csv('deaths_by_neighborhood.csv')"
   ]
  },
  {
   "cell_type": "code",
   "execution_count": 4,
   "metadata": {},
   "outputs": [
    {
     "data": {
      "text/html": [
       "<div>\n",
       "<style scoped>\n",
       "    .dataframe tbody tr th:only-of-type {\n",
       "        vertical-align: middle;\n",
       "    }\n",
       "\n",
       "    .dataframe tbody tr th {\n",
       "        vertical-align: top;\n",
       "    }\n",
       "\n",
       "    .dataframe thead th {\n",
       "        text-align: right;\n",
       "    }\n",
       "</style>\n",
       "<table border=\"1\" class=\"dataframe\">\n",
       "  <thead>\n",
       "    <tr style=\"text-align: right;\">\n",
       "      <th></th>\n",
       "      <th>NEIGHBORHOOD</th>\n",
       "      <th>BLACKdeaths</th>\n",
       "      <th>Black MD AGE AT DEATH</th>\n",
       "      <th>WHITEdeaths</th>\n",
       "      <th>White MD AGE AT DEATH</th>\n",
       "      <th>TOTALdeaths*</th>\n",
       "      <th>TOTAL MD AGE AT DEATH</th>\n",
       "    </tr>\n",
       "  </thead>\n",
       "  <tbody>\n",
       "    <tr>\n",
       "      <th>0</th>\n",
       "      <td>SOUTH SHORE</td>\n",
       "      <td>0.0</td>\n",
       "      <td>0.0</td>\n",
       "      <td>0.0</td>\n",
       "      <td>0.0</td>\n",
       "      <td>0.0</td>\n",
       "      <td>0.0</td>\n",
       "    </tr>\n",
       "    <tr>\n",
       "      <th>1</th>\n",
       "      <td>CHATEAU</td>\n",
       "      <td>0.0</td>\n",
       "      <td>0.0</td>\n",
       "      <td>2.0</td>\n",
       "      <td>NaN</td>\n",
       "      <td>2.0</td>\n",
       "      <td>NaN</td>\n",
       "    </tr>\n",
       "    <tr>\n",
       "      <th>2</th>\n",
       "      <td>NORTH SHORE</td>\n",
       "      <td>0.0</td>\n",
       "      <td>0.0</td>\n",
       "      <td>4.0</td>\n",
       "      <td>NaN</td>\n",
       "      <td>5.0</td>\n",
       "      <td>80.0</td>\n",
       "    </tr>\n",
       "    <tr>\n",
       "      <th>3</th>\n",
       "      <td>ALLEGHENY WEST</td>\n",
       "      <td>3.0</td>\n",
       "      <td>NaN</td>\n",
       "      <td>4.0</td>\n",
       "      <td>NaN</td>\n",
       "      <td>8.0</td>\n",
       "      <td>65.0</td>\n",
       "    </tr>\n",
       "    <tr>\n",
       "      <th>4</th>\n",
       "      <td>SAINT CLAIR</td>\n",
       "      <td>5.0</td>\n",
       "      <td>67.5</td>\n",
       "      <td>5.0</td>\n",
       "      <td>67.5</td>\n",
       "      <td>10.0</td>\n",
       "      <td>67.5</td>\n",
       "    </tr>\n",
       "  </tbody>\n",
       "</table>\n",
       "</div>"
      ],
      "text/plain": [
       "     NEIGHBORHOOD  BLACKdeaths  Black MD AGE AT DEATH  WHITEdeaths  \\\n",
       "0     SOUTH SHORE          0.0                    0.0          0.0   \n",
       "1         CHATEAU          0.0                    0.0          2.0   \n",
       "2     NORTH SHORE          0.0                    0.0          4.0   \n",
       "3  ALLEGHENY WEST          3.0                    NaN          4.0   \n",
       "4     SAINT CLAIR          5.0                   67.5          5.0   \n",
       "\n",
       "   White MD AGE AT DEATH  TOTALdeaths*  TOTAL MD AGE AT DEATH  \n",
       "0                    0.0           0.0                    0.0  \n",
       "1                    NaN           2.0                    NaN  \n",
       "2                    NaN           5.0                   80.0  \n",
       "3                    NaN           8.0                   65.0  \n",
       "4                   67.5          10.0                   67.5  "
      ]
     },
     "execution_count": 4,
     "metadata": {},
     "output_type": "execute_result"
    }
   ],
   "source": [
    "data.head()"
   ]
  },
  {
   "cell_type": "code",
   "execution_count": 5,
   "metadata": {},
   "outputs": [
    {
     "data": {
      "text/html": [
       "<div>\n",
       "<style scoped>\n",
       "    .dataframe tbody tr th:only-of-type {\n",
       "        vertical-align: middle;\n",
       "    }\n",
       "\n",
       "    .dataframe tbody tr th {\n",
       "        vertical-align: top;\n",
       "    }\n",
       "\n",
       "    .dataframe thead th {\n",
       "        text-align: right;\n",
       "    }\n",
       "</style>\n",
       "<table border=\"1\" class=\"dataframe\">\n",
       "  <thead>\n",
       "    <tr style=\"text-align: right;\">\n",
       "      <th></th>\n",
       "      <th>NEIGHBORHOOD</th>\n",
       "      <th>BLACKdeaths</th>\n",
       "      <th>Black MD AGE AT DEATH</th>\n",
       "      <th>WHITEdeaths</th>\n",
       "      <th>White MD AGE AT DEATH</th>\n",
       "      <th>TOTALdeaths*</th>\n",
       "      <th>TOTAL MD AGE AT DEATH</th>\n",
       "    </tr>\n",
       "  </thead>\n",
       "  <tbody>\n",
       "    <tr>\n",
       "      <th>0</th>\n",
       "      <td>SOUTH SHORE</td>\n",
       "      <td>0.0</td>\n",
       "      <td>0.0</td>\n",
       "      <td>0.0</td>\n",
       "      <td>0.0</td>\n",
       "      <td>0.0</td>\n",
       "      <td>0.0</td>\n",
       "    </tr>\n",
       "    <tr>\n",
       "      <th>1</th>\n",
       "      <td>CHATEAU</td>\n",
       "      <td>0.0</td>\n",
       "      <td>0.0</td>\n",
       "      <td>2.0</td>\n",
       "      <td>NaN</td>\n",
       "      <td>2.0</td>\n",
       "      <td>NaN</td>\n",
       "    </tr>\n",
       "    <tr>\n",
       "      <th>2</th>\n",
       "      <td>NORTH SHORE</td>\n",
       "      <td>0.0</td>\n",
       "      <td>0.0</td>\n",
       "      <td>4.0</td>\n",
       "      <td>NaN</td>\n",
       "      <td>5.0</td>\n",
       "      <td>80.0</td>\n",
       "    </tr>\n",
       "    <tr>\n",
       "      <th>3</th>\n",
       "      <td>ALLEGHENY WEST</td>\n",
       "      <td>3.0</td>\n",
       "      <td>NaN</td>\n",
       "      <td>4.0</td>\n",
       "      <td>NaN</td>\n",
       "      <td>8.0</td>\n",
       "      <td>65.0</td>\n",
       "    </tr>\n",
       "    <tr>\n",
       "      <th>4</th>\n",
       "      <td>SAINT CLAIR</td>\n",
       "      <td>5.0</td>\n",
       "      <td>67.5</td>\n",
       "      <td>5.0</td>\n",
       "      <td>67.5</td>\n",
       "      <td>10.0</td>\n",
       "      <td>67.5</td>\n",
       "    </tr>\n",
       "    <tr>\n",
       "      <th>...</th>\n",
       "      <td>...</td>\n",
       "      <td>...</td>\n",
       "      <td>...</td>\n",
       "      <td>...</td>\n",
       "      <td>...</td>\n",
       "      <td>...</td>\n",
       "      <td>...</td>\n",
       "    </tr>\n",
       "    <tr>\n",
       "      <th>87</th>\n",
       "      <td>CARRICK</td>\n",
       "      <td>35.0</td>\n",
       "      <td>59.4</td>\n",
       "      <td>622.0</td>\n",
       "      <td>77.0</td>\n",
       "      <td>678.0</td>\n",
       "      <td>75.9</td>\n",
       "    </tr>\n",
       "    <tr>\n",
       "      <th>88</th>\n",
       "      <td>BROOKLINE</td>\n",
       "      <td>13.0</td>\n",
       "      <td>61.2</td>\n",
       "      <td>723.0</td>\n",
       "      <td>78.1</td>\n",
       "      <td>750.0</td>\n",
       "      <td>77.8</td>\n",
       "    </tr>\n",
       "    <tr>\n",
       "      <th>89</th>\n",
       "      <td>SQUIRREL HILL SOUTH</td>\n",
       "      <td>58.0</td>\n",
       "      <td>83.2</td>\n",
       "      <td>721.0</td>\n",
       "      <td>86.2</td>\n",
       "      <td>802.0</td>\n",
       "      <td>85.9</td>\n",
       "    </tr>\n",
       "    <tr>\n",
       "      <th>90</th>\n",
       "      <td>NaN</td>\n",
       "      <td>NaN</td>\n",
       "      <td>NaN</td>\n",
       "      <td>NaN</td>\n",
       "      <td>NaN</td>\n",
       "      <td>NaN</td>\n",
       "      <td>NaN</td>\n",
       "    </tr>\n",
       "    <tr>\n",
       "      <th>91</th>\n",
       "      <td>*Total includes Other and Unknown race.</td>\n",
       "      <td>NaN</td>\n",
       "      <td>NaN</td>\n",
       "      <td>NaN</td>\n",
       "      <td>NaN</td>\n",
       "      <td>NaN</td>\n",
       "      <td>NaN</td>\n",
       "    </tr>\n",
       "  </tbody>\n",
       "</table>\n",
       "<p>92 rows × 7 columns</p>\n",
       "</div>"
      ],
      "text/plain": [
       "                               NEIGHBORHOOD  BLACKdeaths  \\\n",
       "0                               SOUTH SHORE          0.0   \n",
       "1                                   CHATEAU          0.0   \n",
       "2                               NORTH SHORE          0.0   \n",
       "3                            ALLEGHENY WEST          3.0   \n",
       "4                               SAINT CLAIR          5.0   \n",
       "..                                      ...          ...   \n",
       "87                                  CARRICK         35.0   \n",
       "88                                BROOKLINE         13.0   \n",
       "89                      SQUIRREL HILL SOUTH         58.0   \n",
       "90                                      NaN          NaN   \n",
       "91  *Total includes Other and Unknown race.          NaN   \n",
       "\n",
       "    Black MD AGE AT DEATH  WHITEdeaths  White MD AGE AT DEATH  TOTALdeaths*  \\\n",
       "0                     0.0          0.0                    0.0           0.0   \n",
       "1                     0.0          2.0                    NaN           2.0   \n",
       "2                     0.0          4.0                    NaN           5.0   \n",
       "3                     NaN          4.0                    NaN           8.0   \n",
       "4                    67.5          5.0                   67.5          10.0   \n",
       "..                    ...          ...                    ...           ...   \n",
       "87                   59.4        622.0                   77.0         678.0   \n",
       "88                   61.2        723.0                   78.1         750.0   \n",
       "89                   83.2        721.0                   86.2         802.0   \n",
       "90                    NaN          NaN                    NaN           NaN   \n",
       "91                    NaN          NaN                    NaN           NaN   \n",
       "\n",
       "    TOTAL MD AGE AT DEATH  \n",
       "0                     0.0  \n",
       "1                     NaN  \n",
       "2                    80.0  \n",
       "3                    65.0  \n",
       "4                    67.5  \n",
       "..                    ...  \n",
       "87                   75.9  \n",
       "88                   77.8  \n",
       "89                   85.9  \n",
       "90                    NaN  \n",
       "91                    NaN  \n",
       "\n",
       "[92 rows x 7 columns]"
      ]
     },
     "execution_count": 5,
     "metadata": {},
     "output_type": "execute_result"
    }
   ],
   "source": [
    "data"
   ]
  },
  {
   "cell_type": "code",
   "execution_count": 6,
   "metadata": {},
   "outputs": [
    {
     "data": {
      "text/plain": [
       "NEIGHBORHOOD              1\n",
       "BLACKdeaths               2\n",
       "Black MD AGE AT DEATH    15\n",
       "WHITEdeaths               2\n",
       "White MD AGE AT DEATH    11\n",
       "TOTALdeaths*              2\n",
       "TOTAL MD AGE AT DEATH     3\n",
       "dtype: int64"
      ]
     },
     "execution_count": 6,
     "metadata": {},
     "output_type": "execute_result"
    }
   ],
   "source": [
    "# check for missing values\n",
    "data.isnull().sum()"
   ]
  },
  {
   "cell_type": "code",
   "execution_count": 7,
   "metadata": {},
   "outputs": [
    {
     "data": {
      "text/plain": [
       "NEIGHBORHOOD             *Total includes Other and Unknown race.\n",
       "BLACKdeaths                                                  NaN\n",
       "Black MD AGE AT DEATH                                        NaN\n",
       "WHITEdeaths                                                  NaN\n",
       "White MD AGE AT DEATH                                        NaN\n",
       "TOTALdeaths*                                                 NaN\n",
       "TOTAL MD AGE AT DEATH                                        NaN\n",
       "Name: 91, dtype: object"
      ]
     },
     "execution_count": 7,
     "metadata": {},
     "output_type": "execute_result"
    }
   ],
   "source": [
    "data.iloc[91]"
   ]
  },
  {
   "cell_type": "code",
   "execution_count": 8,
   "metadata": {},
   "outputs": [
    {
     "data": {
      "text/html": [
       "<div>\n",
       "<style scoped>\n",
       "    .dataframe tbody tr th:only-of-type {\n",
       "        vertical-align: middle;\n",
       "    }\n",
       "\n",
       "    .dataframe tbody tr th {\n",
       "        vertical-align: top;\n",
       "    }\n",
       "\n",
       "    .dataframe thead th {\n",
       "        text-align: right;\n",
       "    }\n",
       "</style>\n",
       "<table border=\"1\" class=\"dataframe\">\n",
       "  <thead>\n",
       "    <tr style=\"text-align: right;\">\n",
       "      <th></th>\n",
       "      <th>NEIGHBORHOOD</th>\n",
       "      <th>BLACKdeaths</th>\n",
       "      <th>Black MD AGE AT DEATH</th>\n",
       "      <th>WHITEdeaths</th>\n",
       "      <th>White MD AGE AT DEATH</th>\n",
       "      <th>TOTALdeaths*</th>\n",
       "      <th>TOTAL MD AGE AT DEATH</th>\n",
       "    </tr>\n",
       "  </thead>\n",
       "  <tbody>\n",
       "    <tr>\n",
       "      <th>87</th>\n",
       "      <td>CARRICK</td>\n",
       "      <td>35.0</td>\n",
       "      <td>59.4</td>\n",
       "      <td>622.0</td>\n",
       "      <td>77.0</td>\n",
       "      <td>678.0</td>\n",
       "      <td>75.9</td>\n",
       "    </tr>\n",
       "    <tr>\n",
       "      <th>88</th>\n",
       "      <td>BROOKLINE</td>\n",
       "      <td>13.0</td>\n",
       "      <td>61.2</td>\n",
       "      <td>723.0</td>\n",
       "      <td>78.1</td>\n",
       "      <td>750.0</td>\n",
       "      <td>77.8</td>\n",
       "    </tr>\n",
       "    <tr>\n",
       "      <th>89</th>\n",
       "      <td>SQUIRREL HILL SOUTH</td>\n",
       "      <td>58.0</td>\n",
       "      <td>83.2</td>\n",
       "      <td>721.0</td>\n",
       "      <td>86.2</td>\n",
       "      <td>802.0</td>\n",
       "      <td>85.9</td>\n",
       "    </tr>\n",
       "    <tr>\n",
       "      <th>90</th>\n",
       "      <td>NaN</td>\n",
       "      <td>NaN</td>\n",
       "      <td>NaN</td>\n",
       "      <td>NaN</td>\n",
       "      <td>NaN</td>\n",
       "      <td>NaN</td>\n",
       "      <td>NaN</td>\n",
       "    </tr>\n",
       "    <tr>\n",
       "      <th>91</th>\n",
       "      <td>*Total includes Other and Unknown race.</td>\n",
       "      <td>NaN</td>\n",
       "      <td>NaN</td>\n",
       "      <td>NaN</td>\n",
       "      <td>NaN</td>\n",
       "      <td>NaN</td>\n",
       "      <td>NaN</td>\n",
       "    </tr>\n",
       "  </tbody>\n",
       "</table>\n",
       "</div>"
      ],
      "text/plain": [
       "                               NEIGHBORHOOD  BLACKdeaths  \\\n",
       "87                                  CARRICK         35.0   \n",
       "88                                BROOKLINE         13.0   \n",
       "89                      SQUIRREL HILL SOUTH         58.0   \n",
       "90                                      NaN          NaN   \n",
       "91  *Total includes Other and Unknown race.          NaN   \n",
       "\n",
       "    Black MD AGE AT DEATH  WHITEdeaths  White MD AGE AT DEATH  TOTALdeaths*  \\\n",
       "87                   59.4        622.0                   77.0         678.0   \n",
       "88                   61.2        723.0                   78.1         750.0   \n",
       "89                   83.2        721.0                   86.2         802.0   \n",
       "90                    NaN          NaN                    NaN           NaN   \n",
       "91                    NaN          NaN                    NaN           NaN   \n",
       "\n",
       "    TOTAL MD AGE AT DEATH  \n",
       "87                   75.9  \n",
       "88                   77.8  \n",
       "89                   85.9  \n",
       "90                    NaN  \n",
       "91                    NaN  "
      ]
     },
     "execution_count": 8,
     "metadata": {},
     "output_type": "execute_result"
    }
   ],
   "source": [
    "data.tail()"
   ]
  },
  {
   "cell_type": "code",
   "execution_count": 9,
   "metadata": {},
   "outputs": [
    {
     "data": {
      "text/html": [
       "<div>\n",
       "<style scoped>\n",
       "    .dataframe tbody tr th:only-of-type {\n",
       "        vertical-align: middle;\n",
       "    }\n",
       "\n",
       "    .dataframe tbody tr th {\n",
       "        vertical-align: top;\n",
       "    }\n",
       "\n",
       "    .dataframe thead th {\n",
       "        text-align: right;\n",
       "    }\n",
       "</style>\n",
       "<table border=\"1\" class=\"dataframe\">\n",
       "  <thead>\n",
       "    <tr style=\"text-align: right;\">\n",
       "      <th></th>\n",
       "      <th>NEIGHBORHOOD</th>\n",
       "      <th>BLACKdeaths</th>\n",
       "      <th>Black MD AGE AT DEATH</th>\n",
       "      <th>WHITEdeaths</th>\n",
       "      <th>White MD AGE AT DEATH</th>\n",
       "      <th>TOTALdeaths*</th>\n",
       "      <th>TOTAL MD AGE AT DEATH</th>\n",
       "    </tr>\n",
       "  </thead>\n",
       "  <tbody>\n",
       "    <tr>\n",
       "      <th>85</th>\n",
       "      <td>MOUNT WASHINGTON</td>\n",
       "      <td>35.0</td>\n",
       "      <td>68.1</td>\n",
       "      <td>433.0</td>\n",
       "      <td>77.0</td>\n",
       "      <td>476.0</td>\n",
       "      <td>76.3</td>\n",
       "    </tr>\n",
       "    <tr>\n",
       "      <th>86</th>\n",
       "      <td>BRIGHTON HEIGHTS</td>\n",
       "      <td>56.0</td>\n",
       "      <td>63.7</td>\n",
       "      <td>432.0</td>\n",
       "      <td>80.3</td>\n",
       "      <td>496.0</td>\n",
       "      <td>78.9</td>\n",
       "    </tr>\n",
       "    <tr>\n",
       "      <th>87</th>\n",
       "      <td>CARRICK</td>\n",
       "      <td>35.0</td>\n",
       "      <td>59.4</td>\n",
       "      <td>622.0</td>\n",
       "      <td>77.0</td>\n",
       "      <td>678.0</td>\n",
       "      <td>75.9</td>\n",
       "    </tr>\n",
       "    <tr>\n",
       "      <th>88</th>\n",
       "      <td>BROOKLINE</td>\n",
       "      <td>13.0</td>\n",
       "      <td>61.2</td>\n",
       "      <td>723.0</td>\n",
       "      <td>78.1</td>\n",
       "      <td>750.0</td>\n",
       "      <td>77.8</td>\n",
       "    </tr>\n",
       "    <tr>\n",
       "      <th>89</th>\n",
       "      <td>SQUIRREL HILL SOUTH</td>\n",
       "      <td>58.0</td>\n",
       "      <td>83.2</td>\n",
       "      <td>721.0</td>\n",
       "      <td>86.2</td>\n",
       "      <td>802.0</td>\n",
       "      <td>85.9</td>\n",
       "    </tr>\n",
       "  </tbody>\n",
       "</table>\n",
       "</div>"
      ],
      "text/plain": [
       "           NEIGHBORHOOD  BLACKdeaths  Black MD AGE AT DEATH  WHITEdeaths  \\\n",
       "85     MOUNT WASHINGTON         35.0                   68.1        433.0   \n",
       "86     BRIGHTON HEIGHTS         56.0                   63.7        432.0   \n",
       "87              CARRICK         35.0                   59.4        622.0   \n",
       "88            BROOKLINE         13.0                   61.2        723.0   \n",
       "89  SQUIRREL HILL SOUTH         58.0                   83.2        721.0   \n",
       "\n",
       "    White MD AGE AT DEATH  TOTALdeaths*  TOTAL MD AGE AT DEATH  \n",
       "85                   77.0         476.0                   76.3  \n",
       "86                   80.3         496.0                   78.9  \n",
       "87                   77.0         678.0                   75.9  \n",
       "88                   78.1         750.0                   77.8  \n",
       "89                   86.2         802.0                   85.9  "
      ]
     },
     "execution_count": 9,
     "metadata": {},
     "output_type": "execute_result"
    }
   ],
   "source": [
    "# Drop two rows tha had missing values that could not be replaced\n",
    "data.drop(91, inplace=True)\n",
    "data.drop(90,inplace=True)\n",
    "data.tail()"
   ]
  },
  {
   "cell_type": "code",
   "execution_count": 10,
   "metadata": {},
   "outputs": [],
   "source": [
    "# Fill in missing values with their mean\n",
    "data['BLACKdeaths'].fillna(data['BLACKdeaths'].mean(), inplace=True)\n",
    "data['Black MD AGE AT DEATH'].fillna(data['Black MD AGE AT DEATH'].mean(), inplace=True)\n",
    "data['WHITEdeaths'].fillna(data['WHITEdeaths'].mean(), inplace=True)\n",
    "data['White MD AGE AT DEATH'].fillna(data['White MD AGE AT DEATH'].mean(), inplace=True)\n",
    "data['TOTALdeaths*'].fillna(data['TOTALdeaths*'].mean(), inplace=True)\n",
    "data['TOTAL MD AGE AT DEATH'].fillna(data['TOTAL MD AGE AT DEATH'].mean(), inplace=True)"
   ]
  },
  {
   "cell_type": "code",
   "execution_count": 11,
   "metadata": {},
   "outputs": [
    {
     "data": {
      "text/plain": [
       "NEIGHBORHOOD             0\n",
       "BLACKdeaths              0\n",
       "Black MD AGE AT DEATH    0\n",
       "WHITEdeaths              0\n",
       "White MD AGE AT DEATH    0\n",
       "TOTALdeaths*             0\n",
       "TOTAL MD AGE AT DEATH    0\n",
       "dtype: int64"
      ]
     },
     "execution_count": 11,
     "metadata": {},
     "output_type": "execute_result"
    }
   ],
   "source": [
    "data.isnull().sum()"
   ]
  },
  {
   "cell_type": "code",
   "execution_count": 12,
   "metadata": {},
   "outputs": [
    {
     "data": {
      "text/html": [
       "<div>\n",
       "<style scoped>\n",
       "    .dataframe tbody tr th:only-of-type {\n",
       "        vertical-align: middle;\n",
       "    }\n",
       "\n",
       "    .dataframe tbody tr th {\n",
       "        vertical-align: top;\n",
       "    }\n",
       "\n",
       "    .dataframe thead th {\n",
       "        text-align: right;\n",
       "    }\n",
       "</style>\n",
       "<table border=\"1\" class=\"dataframe\">\n",
       "  <thead>\n",
       "    <tr style=\"text-align: right;\">\n",
       "      <th></th>\n",
       "      <th>BLACKdeaths</th>\n",
       "      <th>Black MD AGE AT DEATH</th>\n",
       "      <th>WHITEdeaths</th>\n",
       "      <th>White MD AGE AT DEATH</th>\n",
       "      <th>TOTALdeaths*</th>\n",
       "      <th>TOTAL MD AGE AT DEATH</th>\n",
       "    </tr>\n",
       "  </thead>\n",
       "  <tbody>\n",
       "    <tr>\n",
       "      <th>count</th>\n",
       "      <td>90.000000</td>\n",
       "      <td>90.000000</td>\n",
       "      <td>90.000000</td>\n",
       "      <td>90.000000</td>\n",
       "      <td>90.000000</td>\n",
       "      <td>90.000000</td>\n",
       "    </tr>\n",
       "    <tr>\n",
       "      <th>mean</th>\n",
       "      <td>47.022222</td>\n",
       "      <td>64.014286</td>\n",
       "      <td>121.055556</td>\n",
       "      <td>76.239506</td>\n",
       "      <td>171.211111</td>\n",
       "      <td>74.848315</td>\n",
       "    </tr>\n",
       "    <tr>\n",
       "      <th>std</th>\n",
       "      <td>59.622403</td>\n",
       "      <td>17.251593</td>\n",
       "      <td>150.501436</td>\n",
       "      <td>10.237677</td>\n",
       "      <td>158.504988</td>\n",
       "      <td>9.681375</td>\n",
       "    </tr>\n",
       "    <tr>\n",
       "      <th>min</th>\n",
       "      <td>0.000000</td>\n",
       "      <td>0.000000</td>\n",
       "      <td>0.000000</td>\n",
       "      <td>0.000000</td>\n",
       "      <td>0.000000</td>\n",
       "      <td>0.000000</td>\n",
       "    </tr>\n",
       "    <tr>\n",
       "      <th>25%</th>\n",
       "      <td>8.000000</td>\n",
       "      <td>63.350000</td>\n",
       "      <td>15.500000</td>\n",
       "      <td>73.725000</td>\n",
       "      <td>55.000000</td>\n",
       "      <td>72.000000</td>\n",
       "    </tr>\n",
       "    <tr>\n",
       "      <th>50%</th>\n",
       "      <td>20.500000</td>\n",
       "      <td>67.500000</td>\n",
       "      <td>72.500000</td>\n",
       "      <td>77.250000</td>\n",
       "      <td>133.500000</td>\n",
       "      <td>76.450000</td>\n",
       "    </tr>\n",
       "    <tr>\n",
       "      <th>75%</th>\n",
       "      <td>60.750000</td>\n",
       "      <td>72.950000</td>\n",
       "      <td>159.000000</td>\n",
       "      <td>80.275000</td>\n",
       "      <td>219.250000</td>\n",
       "      <td>79.200000</td>\n",
       "    </tr>\n",
       "    <tr>\n",
       "      <th>max</th>\n",
       "      <td>287.000000</td>\n",
       "      <td>83.200000</td>\n",
       "      <td>723.000000</td>\n",
       "      <td>88.400000</td>\n",
       "      <td>802.000000</td>\n",
       "      <td>85.900000</td>\n",
       "    </tr>\n",
       "  </tbody>\n",
       "</table>\n",
       "</div>"
      ],
      "text/plain": [
       "       BLACKdeaths  Black MD AGE AT DEATH  WHITEdeaths  White MD AGE AT DEATH  \\\n",
       "count    90.000000              90.000000    90.000000              90.000000   \n",
       "mean     47.022222              64.014286   121.055556              76.239506   \n",
       "std      59.622403              17.251593   150.501436              10.237677   \n",
       "min       0.000000               0.000000     0.000000               0.000000   \n",
       "25%       8.000000              63.350000    15.500000              73.725000   \n",
       "50%      20.500000              67.500000    72.500000              77.250000   \n",
       "75%      60.750000              72.950000   159.000000              80.275000   \n",
       "max     287.000000              83.200000   723.000000              88.400000   \n",
       "\n",
       "       TOTALdeaths*  TOTAL MD AGE AT DEATH  \n",
       "count     90.000000              90.000000  \n",
       "mean     171.211111              74.848315  \n",
       "std      158.504988               9.681375  \n",
       "min        0.000000               0.000000  \n",
       "25%       55.000000              72.000000  \n",
       "50%      133.500000              76.450000  \n",
       "75%      219.250000              79.200000  \n",
       "max      802.000000              85.900000  "
      ]
     },
     "execution_count": 12,
     "metadata": {},
     "output_type": "execute_result"
    }
   ],
   "source": [
    "# create descriptive statistics\n",
    "data.describe()"
   ]
  },
  {
   "cell_type": "code",
   "execution_count": 13,
   "metadata": {},
   "outputs": [
    {
     "data": {
      "text/plain": [
       "NEIGHBORHOOD             0\n",
       "BLACKdeaths              0\n",
       "Black MD AGE AT DEATH    0\n",
       "WHITEdeaths              0\n",
       "White MD AGE AT DEATH    0\n",
       "TOTALdeaths*             0\n",
       "TOTAL MD AGE AT DEATH    0\n",
       "dtype: int64"
      ]
     },
     "execution_count": 13,
     "metadata": {},
     "output_type": "execute_result"
    }
   ],
   "source": [
    "data.isnull().sum()"
   ]
  },
  {
   "cell_type": "code",
   "execution_count": 14,
   "metadata": {},
   "outputs": [
    {
     "data": {
      "text/html": [
       "<div>\n",
       "<style scoped>\n",
       "    .dataframe tbody tr th:only-of-type {\n",
       "        vertical-align: middle;\n",
       "    }\n",
       "\n",
       "    .dataframe tbody tr th {\n",
       "        vertical-align: top;\n",
       "    }\n",
       "\n",
       "    .dataframe thead th {\n",
       "        text-align: right;\n",
       "    }\n",
       "</style>\n",
       "<table border=\"1\" class=\"dataframe\">\n",
       "  <thead>\n",
       "    <tr style=\"text-align: right;\">\n",
       "      <th></th>\n",
       "      <th>NEIGHBORHOOD</th>\n",
       "      <th>BLACKdeaths</th>\n",
       "      <th>Black MD AGE AT DEATH</th>\n",
       "      <th>WHITEdeaths</th>\n",
       "      <th>White MD AGE AT DEATH</th>\n",
       "      <th>TOTALdeaths*</th>\n",
       "      <th>TOTAL MD AGE AT DEATH</th>\n",
       "    </tr>\n",
       "  </thead>\n",
       "  <tbody>\n",
       "    <tr>\n",
       "      <th>89</th>\n",
       "      <td>SQUIRREL HILL SOUTH</td>\n",
       "      <td>58.0</td>\n",
       "      <td>83.200000</td>\n",
       "      <td>721.0</td>\n",
       "      <td>86.200000</td>\n",
       "      <td>802.0</td>\n",
       "      <td>85.9</td>\n",
       "    </tr>\n",
       "    <tr>\n",
       "      <th>76</th>\n",
       "      <td>NORTH OAKLAND</td>\n",
       "      <td>45.0</td>\n",
       "      <td>70.900000</td>\n",
       "      <td>227.0</td>\n",
       "      <td>86.800000</td>\n",
       "      <td>279.0</td>\n",
       "      <td>85.6</td>\n",
       "    </tr>\n",
       "    <tr>\n",
       "      <th>71</th>\n",
       "      <td>BANKSVILLE</td>\n",
       "      <td>4.0</td>\n",
       "      <td>64.014286</td>\n",
       "      <td>247.0</td>\n",
       "      <td>85.500000</td>\n",
       "      <td>253.0</td>\n",
       "      <td>85.5</td>\n",
       "    </tr>\n",
       "    <tr>\n",
       "      <th>53</th>\n",
       "      <td>POINT BREEZE</td>\n",
       "      <td>13.0</td>\n",
       "      <td>66.700000</td>\n",
       "      <td>158.0</td>\n",
       "      <td>85.700000</td>\n",
       "      <td>175.0</td>\n",
       "      <td>85.1</td>\n",
       "    </tr>\n",
       "    <tr>\n",
       "      <th>68</th>\n",
       "      <td>SQUIRREL HILL NORTH</td>\n",
       "      <td>6.0</td>\n",
       "      <td>75.000000</td>\n",
       "      <td>231.0</td>\n",
       "      <td>85.300000</td>\n",
       "      <td>242.0</td>\n",
       "      <td>85.0</td>\n",
       "    </tr>\n",
       "    <tr>\n",
       "      <th>...</th>\n",
       "      <td>...</td>\n",
       "      <td>...</td>\n",
       "      <td>...</td>\n",
       "      <td>...</td>\n",
       "      <td>...</td>\n",
       "      <td>...</td>\n",
       "      <td>...</td>\n",
       "    </tr>\n",
       "    <tr>\n",
       "      <th>49</th>\n",
       "      <td>EAST ALLEGHENY</td>\n",
       "      <td>51.0</td>\n",
       "      <td>62.700000</td>\n",
       "      <td>100.0</td>\n",
       "      <td>70.000000</td>\n",
       "      <td>157.0</td>\n",
       "      <td>66.2</td>\n",
       "    </tr>\n",
       "    <tr>\n",
       "      <th>3</th>\n",
       "      <td>ALLEGHENY WEST</td>\n",
       "      <td>3.0</td>\n",
       "      <td>64.014286</td>\n",
       "      <td>4.0</td>\n",
       "      <td>76.239506</td>\n",
       "      <td>8.0</td>\n",
       "      <td>65.0</td>\n",
       "    </tr>\n",
       "    <tr>\n",
       "      <th>7</th>\n",
       "      <td>ARLINGTON HEIGHTS</td>\n",
       "      <td>10.0</td>\n",
       "      <td>55.000000</td>\n",
       "      <td>7.0</td>\n",
       "      <td>72.500000</td>\n",
       "      <td>17.0</td>\n",
       "      <td>63.7</td>\n",
       "    </tr>\n",
       "    <tr>\n",
       "      <th>9</th>\n",
       "      <td>FAIRYWOOD</td>\n",
       "      <td>11.0</td>\n",
       "      <td>62.500000</td>\n",
       "      <td>9.0</td>\n",
       "      <td>42.500000</td>\n",
       "      <td>21.0</td>\n",
       "      <td>53.3</td>\n",
       "    </tr>\n",
       "    <tr>\n",
       "      <th>0</th>\n",
       "      <td>SOUTH SHORE</td>\n",
       "      <td>0.0</td>\n",
       "      <td>0.000000</td>\n",
       "      <td>0.0</td>\n",
       "      <td>0.000000</td>\n",
       "      <td>0.0</td>\n",
       "      <td>0.0</td>\n",
       "    </tr>\n",
       "  </tbody>\n",
       "</table>\n",
       "<p>90 rows × 7 columns</p>\n",
       "</div>"
      ],
      "text/plain": [
       "           NEIGHBORHOOD  BLACKdeaths  Black MD AGE AT DEATH  WHITEdeaths  \\\n",
       "89  SQUIRREL HILL SOUTH         58.0              83.200000        721.0   \n",
       "76        NORTH OAKLAND         45.0              70.900000        227.0   \n",
       "71           BANKSVILLE          4.0              64.014286        247.0   \n",
       "53         POINT BREEZE         13.0              66.700000        158.0   \n",
       "68  SQUIRREL HILL NORTH          6.0              75.000000        231.0   \n",
       "..                  ...          ...                    ...          ...   \n",
       "49       EAST ALLEGHENY         51.0              62.700000        100.0   \n",
       "3        ALLEGHENY WEST          3.0              64.014286          4.0   \n",
       "7     ARLINGTON HEIGHTS         10.0              55.000000          7.0   \n",
       "9             FAIRYWOOD         11.0              62.500000          9.0   \n",
       "0           SOUTH SHORE          0.0               0.000000          0.0   \n",
       "\n",
       "    White MD AGE AT DEATH  TOTALdeaths*  TOTAL MD AGE AT DEATH  \n",
       "89              86.200000         802.0                   85.9  \n",
       "76              86.800000         279.0                   85.6  \n",
       "71              85.500000         253.0                   85.5  \n",
       "53              85.700000         175.0                   85.1  \n",
       "68              85.300000         242.0                   85.0  \n",
       "..                    ...           ...                    ...  \n",
       "49              70.000000         157.0                   66.2  \n",
       "3               76.239506           8.0                   65.0  \n",
       "7               72.500000          17.0                   63.7  \n",
       "9               42.500000          21.0                   53.3  \n",
       "0                0.000000           0.0                    0.0  \n",
       "\n",
       "[90 rows x 7 columns]"
      ]
     },
     "execution_count": 14,
     "metadata": {},
     "output_type": "execute_result"
    }
   ],
   "source": [
    "#sort values in decending order\n",
    "sorted_data = data.sort_values('TOTAL MD AGE AT DEATH', ascending=False)\n",
    "sorted_data"
   ]
  },
  {
   "cell_type": "code",
   "execution_count": 15,
   "metadata": {},
   "outputs": [
    {
     "data": {
      "text/plain": [
       "<matplotlib.axes._subplots.AxesSubplot at 0x7f1ffec79b80>"
      ]
     },
     "execution_count": 15,
     "metadata": {},
     "output_type": "execute_result"
    },
    {
     "data": {
      "image/png": "[encoded data removed]",
      "text/plain": [
       "<Figure size 432x288 with 1 Axes>"
      ]
     },
     "metadata": {
      "needs_background": "light"
     },
     "output_type": "display_data"
    }
   ],
   "source": [
    "#generate bar graph for the top ten neighbor hoods\n",
    "sorted_data[:10].plot.bar(x='NEIGHBORHOOD', y='TOTAL MD AGE AT DEATH')"
   ]
  },
  {
   "cell_type": "markdown",
   "metadata": {},
   "source": [
    "# Conclusion\n",
    "Missing values for quantitative data were replaced with their column's mean. There were two rows with no neighborhoods so they could not be categorized. Since the original dataset excluded neighborhoods for different sampling reason from the dataset the two rows were droped. \n",
    "Squirrel Hilll South had the highest meadian of deaths, 85.9, during the span of the sampling.\n",
    "The bar graph shows the first 10 neighborhoods with the highest meadian age.\n",
    "*Data spans from 2011-2015 andis based on the recidency of the person not location of their death"
   ]
  },
  {
   "cell_type": "markdown",
   "metadata": {},
   "source": [
    "## Noah's Metric Winners:\n",
    "Squirrel Hill South = 10\n",
    "\n",
    "North Oakland = 9\n",
    "\n",
    "Banksville = 8\n",
    "\n",
    "<img src=\"4.PNG\" alt=\"chart\">\n",
    "<img src=\"5.PNG\" alt=\"chart\">"
   ]
  },
  {
   "cell_type": "markdown",
   "metadata": {},
   "source": [
    "# Lily's Metric"
   ]
  },
  {
   "cell_type": "markdown",
   "metadata": {},
   "source": [
    "## Introduction\n",
    "For this project, we decided that the best neighborhood is the healthiest neighborhood. We included factors like covid cases, covid deaths, median death age, and obesity rates. Obviously to go further in depth and actually decide on the healthiest neighborhood it would require many more datasets. \n",
    "## The Metric\n",
    "For this project I used a data set that includes obesity rates in different neighborhoods in Allegheny County. I ranked these from least to best and used this as my metric. The best neighborhood is therefore the neighborhood with the lowest obesity rate. \n"
   ]
  },
  {
   "cell_type": "markdown",
   "metadata": {},
   "source": [
    "First, I imported pandas and loaded in my data file."
   ]
  },
  {
   "cell_type": "code",
   "execution_count": 1,
   "metadata": {},
   "outputs": [],
   "source": [
    "import pandas as pd  \n",
    "obesityRates = pd.read_csv(\"obesityratesinAlleghenyCounty.csv\")"
   ]
  },
  {
   "cell_type": "markdown",
   "metadata": {},
   "source": [
    "Then, I manually got rid of some data points that I couldnt get rid of using pandas."
   ]
  },
  {
   "cell_type": "code",
   "execution_count": 3,
   "metadata": {},
   "outputs": [],
   "source": [
    "obesityRates.drop([20, 16, 17, 19, 49, 20, 16, 415, 7, 5, 50, 57, 22, 53, 58], inplace=True)"
   ]
  },
  {
   "cell_type": "markdown",
   "metadata": {},
   "source": [
    "This prints out the data set."
   ]
  },
  {
   "cell_type": "code",
   "execution_count": 4,
   "metadata": {},
   "outputs": [
    {
     "data": {
      "text/html": [
       "<div>\n",
       "<style scoped>\n",
       "    .dataframe tbody tr th:only-of-type {\n",
       "        vertical-align: middle;\n",
       "    }\n",
       "\n",
       "    .dataframe tbody tr th {\n",
       "        vertical-align: top;\n",
       "    }\n",
       "\n",
       "    .dataframe thead th {\n",
       "        text-align: right;\n",
       "    }\n",
       "</style>\n",
       "<table border=\"1\" class=\"dataframe\">\n",
       "  <thead>\n",
       "    <tr style=\"text-align: right;\">\n",
       "      <th></th>\n",
       "      <th>stname</th>\n",
       "      <th>tractfips</th>\n",
       "      <th>2000 Tract</th>\n",
       "      <th>2010 Tract</th>\n",
       "      <th>MUNICIPALITY</th>\n",
       "      <th>Municipality</th>\n",
       "      <th>City Neighborhood</th>\n",
       "      <th>2006-2010 estimate of obesity</th>\n",
       "    </tr>\n",
       "  </thead>\n",
       "  <tbody>\n",
       "    <tr>\n",
       "      <th>0</th>\n",
       "      <td>Pennsylvania</td>\n",
       "      <td>42003010300</td>\n",
       "      <td>10300</td>\n",
       "      <td>NaN</td>\n",
       "      <td>PITTSBURGH</td>\n",
       "      <td>Pittsburgh</td>\n",
       "      <td>Bluff</td>\n",
       "      <td>0.246936</td>\n",
       "    </tr>\n",
       "    <tr>\n",
       "      <th>1</th>\n",
       "      <td>Pennsylvania</td>\n",
       "      <td>42003020100</td>\n",
       "      <td>20100</td>\n",
       "      <td>NaN</td>\n",
       "      <td>PITTSBURGH</td>\n",
       "      <td>Pittsburgh</td>\n",
       "      <td>Central Business District</td>\n",
       "      <td>0.668012</td>\n",
       "    </tr>\n",
       "    <tr>\n",
       "      <th>2</th>\n",
       "      <td>Pennsylvania</td>\n",
       "      <td>42003020300</td>\n",
       "      <td>20300</td>\n",
       "      <td>NaN</td>\n",
       "      <td>PITTSBURGH</td>\n",
       "      <td>Pittsburgh</td>\n",
       "      <td>Strip District</td>\n",
       "      <td>0.369996</td>\n",
       "    </tr>\n",
       "    <tr>\n",
       "      <th>3</th>\n",
       "      <td>Pennsylvania</td>\n",
       "      <td>42003030500</td>\n",
       "      <td>30500</td>\n",
       "      <td>NaN</td>\n",
       "      <td>PITTSBURGH</td>\n",
       "      <td>Pittsburgh</td>\n",
       "      <td>Crawford Roberts</td>\n",
       "      <td>0.488691</td>\n",
       "    </tr>\n",
       "    <tr>\n",
       "      <th>4</th>\n",
       "      <td>Pennsylvania</td>\n",
       "      <td>42003040200</td>\n",
       "      <td>40200</td>\n",
       "      <td>NaN</td>\n",
       "      <td>PITTSBURGH</td>\n",
       "      <td>Pittsburgh</td>\n",
       "      <td>West oakland</td>\n",
       "      <td>0.366391</td>\n",
       "    </tr>\n",
       "    <tr>\n",
       "      <th>...</th>\n",
       "      <td>...</td>\n",
       "      <td>...</td>\n",
       "      <td>...</td>\n",
       "      <td>...</td>\n",
       "      <td>...</td>\n",
       "      <td>...</td>\n",
       "      <td>...</td>\n",
       "      <td>...</td>\n",
       "    </tr>\n",
       "    <tr>\n",
       "      <th>410</th>\n",
       "      <td>Pennsylvania</td>\n",
       "      <td>42003980000</td>\n",
       "      <td>120200</td>\n",
       "      <td>561900, 980000 &amp; 981800</td>\n",
       "      <td>PITTSBURGH</td>\n",
       "      <td>Pittsburgh</td>\n",
       "      <td>Lincoln-Lemington-Belmar</td>\n",
       "      <td>0.525315</td>\n",
       "    </tr>\n",
       "    <tr>\n",
       "      <th>411</th>\n",
       "      <td>Pennsylvania</td>\n",
       "      <td>42003980600</td>\n",
       "      <td>210800</td>\n",
       "      <td>980600</td>\n",
       "      <td>PITTSBURGH</td>\n",
       "      <td>Pittsburgh</td>\n",
       "      <td>Chateau</td>\n",
       "      <td>0.439386</td>\n",
       "    </tr>\n",
       "    <tr>\n",
       "      <th>412</th>\n",
       "      <td>Pennsylvania</td>\n",
       "      <td>42003980700</td>\n",
       "      <td>192100</td>\n",
       "      <td>980700</td>\n",
       "      <td>PITTSBURGH</td>\n",
       "      <td>Pittsburgh</td>\n",
       "      <td>South Shore</td>\n",
       "      <td>0.354375</td>\n",
       "    </tr>\n",
       "    <tr>\n",
       "      <th>413</th>\n",
       "      <td>Pennsylvania</td>\n",
       "      <td>42003981200</td>\n",
       "      <td>220500</td>\n",
       "      <td>563200 &amp; 981200</td>\n",
       "      <td>PITTSBURGH</td>\n",
       "      <td>Pittsburgh</td>\n",
       "      <td>North Shore</td>\n",
       "      <td>0.121487</td>\n",
       "    </tr>\n",
       "    <tr>\n",
       "      <th>414</th>\n",
       "      <td>Pennsylvania</td>\n",
       "      <td>42003981800</td>\n",
       "      <td>120300</td>\n",
       "      <td>NaN</td>\n",
       "      <td>PITTSBURGH</td>\n",
       "      <td>Pittsburgh</td>\n",
       "      <td>Lincoln-Lemington-Belmar</td>\n",
       "      <td>0.574293</td>\n",
       "    </tr>\n",
       "  </tbody>\n",
       "</table>\n",
       "<p>403 rows × 8 columns</p>\n",
       "</div>"
      ],
      "text/plain": [
       "           stname    tractfips  2000 Tract               2010 Tract  \\\n",
       "0    Pennsylvania  42003010300       10300                      NaN   \n",
       "1    Pennsylvania  42003020100       20100                      NaN   \n",
       "2    Pennsylvania  42003020300       20300                      NaN   \n",
       "3    Pennsylvania  42003030500       30500                      NaN   \n",
       "4    Pennsylvania  42003040200       40200                      NaN   \n",
       "..            ...          ...         ...                      ...   \n",
       "410  Pennsylvania  42003980000      120200  561900, 980000 & 981800   \n",
       "411  Pennsylvania  42003980600      210800                   980600   \n",
       "412  Pennsylvania  42003980700      192100                   980700   \n",
       "413  Pennsylvania  42003981200      220500          563200 & 981200   \n",
       "414  Pennsylvania  42003981800      120300                      NaN   \n",
       "\n",
       "     MUNICIPALITY  Municipality          City Neighborhood  \\\n",
       "0    PITTSBURGH    Pittsburgh                        Bluff   \n",
       "1    PITTSBURGH    Pittsburgh    Central Business District   \n",
       "2    PITTSBURGH    Pittsburgh               Strip District   \n",
       "3    PITTSBURGH    Pittsburgh             Crawford Roberts   \n",
       "4    PITTSBURGH    Pittsburgh                 West oakland   \n",
       "..            ...           ...                        ...   \n",
       "410  PITTSBURGH    Pittsburgh     Lincoln-Lemington-Belmar   \n",
       "411  PITTSBURGH    Pittsburgh                      Chateau   \n",
       "412  PITTSBURGH    Pittsburgh                  South Shore   \n",
       "413  PITTSBURGH    Pittsburgh                  North Shore   \n",
       "414  PITTSBURGH    Pittsburgh     Lincoln-Lemington-Belmar   \n",
       "\n",
       "     2006-2010 estimate of obesity  \n",
       "0                         0.246936  \n",
       "1                         0.668012  \n",
       "2                         0.369996  \n",
       "3                         0.488691  \n",
       "4                         0.366391  \n",
       "..                             ...  \n",
       "410                       0.525315  \n",
       "411                       0.439386  \n",
       "412                       0.354375  \n",
       "413                       0.121487  \n",
       "414                       0.574293  \n",
       "\n",
       "[403 rows x 8 columns]"
      ]
     },
     "execution_count": 4,
     "metadata": {},
     "output_type": "execute_result"
    }
   ],
   "source": [
    "obesityRates"
   ]
  },
  {
   "cell_type": "markdown",
   "metadata": {},
   "source": [
    "This code is dropping some unnecessary columns."
   ]
  },
  {
   "cell_type": "code",
   "execution_count": 5,
   "metadata": {},
   "outputs": [],
   "source": [
    "obesityRates = obesityRates.drop(['tractfips', '2000 Tract', '2010 Tract', 'MUNICIPALITY','Municipality'], axis=1) "
   ]
  },
  {
   "cell_type": "markdown",
   "metadata": {},
   "source": [
    "This is giving me just the front 10 in the data set."
   ]
  },
  {
   "cell_type": "code",
   "execution_count": 5,
   "metadata": {},
   "outputs": [
    {
     "data": {
      "text/html": [
       "<div>\n",
       "<style scoped>\n",
       "    .dataframe tbody tr th:only-of-type {\n",
       "        vertical-align: middle;\n",
       "    }\n",
       "\n",
       "    .dataframe tbody tr th {\n",
       "        vertical-align: top;\n",
       "    }\n",
       "\n",
       "    .dataframe thead th {\n",
       "        text-align: right;\n",
       "    }\n",
       "</style>\n",
       "<table border=\"1\" class=\"dataframe\">\n",
       "  <thead>\n",
       "    <tr style=\"text-align: right;\">\n",
       "      <th></th>\n",
       "      <th>stname</th>\n",
       "      <th>City Neighborhood</th>\n",
       "      <th>2006-2010 estimate of obesity</th>\n",
       "    </tr>\n",
       "  </thead>\n",
       "  <tbody>\n",
       "    <tr>\n",
       "      <th>0</th>\n",
       "      <td>Pennsylvania</td>\n",
       "      <td>Bluff</td>\n",
       "      <td>0.246936</td>\n",
       "    </tr>\n",
       "    <tr>\n",
       "      <th>1</th>\n",
       "      <td>Pennsylvania</td>\n",
       "      <td>Central Business District</td>\n",
       "      <td>0.668012</td>\n",
       "    </tr>\n",
       "    <tr>\n",
       "      <th>2</th>\n",
       "      <td>Pennsylvania</td>\n",
       "      <td>Strip District</td>\n",
       "      <td>0.369996</td>\n",
       "    </tr>\n",
       "    <tr>\n",
       "      <th>3</th>\n",
       "      <td>Pennsylvania</td>\n",
       "      <td>Crawford Roberts</td>\n",
       "      <td>0.488691</td>\n",
       "    </tr>\n",
       "    <tr>\n",
       "      <th>4</th>\n",
       "      <td>Pennsylvania</td>\n",
       "      <td>West oakland</td>\n",
       "      <td>0.366391</td>\n",
       "    </tr>\n",
       "    <tr>\n",
       "      <th>6</th>\n",
       "      <td>Pennsylvania</td>\n",
       "      <td>Central Oakland</td>\n",
       "      <td>0.112780</td>\n",
       "    </tr>\n",
       "    <tr>\n",
       "      <th>8</th>\n",
       "      <td>Pennsylvania</td>\n",
       "      <td>South Oakland</td>\n",
       "      <td>0.281331</td>\n",
       "    </tr>\n",
       "    <tr>\n",
       "      <th>9</th>\n",
       "      <td>Pennsylvania</td>\n",
       "      <td>Middle Hill</td>\n",
       "      <td>0.608099</td>\n",
       "    </tr>\n",
       "    <tr>\n",
       "      <th>10</th>\n",
       "      <td>Pennsylvania</td>\n",
       "      <td>Upper Hill</td>\n",
       "      <td>0.455786</td>\n",
       "    </tr>\n",
       "    <tr>\n",
       "      <th>11</th>\n",
       "      <td>Pennsylvania</td>\n",
       "      <td>Bedford Dwellings</td>\n",
       "      <td>0.636222</td>\n",
       "    </tr>\n",
       "  </tbody>\n",
       "</table>\n",
       "</div>"
      ],
      "text/plain": [
       "          stname          City Neighborhood  2006-2010 estimate of obesity\n",
       "0   Pennsylvania                      Bluff                       0.246936\n",
       "1   Pennsylvania  Central Business District                       0.668012\n",
       "2   Pennsylvania             Strip District                       0.369996\n",
       "3   Pennsylvania           Crawford Roberts                       0.488691\n",
       "4   Pennsylvania               West oakland                       0.366391\n",
       "6   Pennsylvania            Central Oakland                       0.112780\n",
       "8   Pennsylvania              South Oakland                       0.281331\n",
       "9   Pennsylvania                Middle Hill                       0.608099\n",
       "10  Pennsylvania                 Upper Hill                       0.455786\n",
       "11  Pennsylvania          Bedford Dwellings                       0.636222"
      ]
     },
     "execution_count": 5,
     "metadata": {},
     "output_type": "execute_result"
    }
   ],
   "source": [
    "obesityRates.head(10)"
   ]
  },
  {
   "cell_type": "markdown",
   "metadata": {},
   "source": [
    "The dropna() function drops any values that were not available."
   ]
  },
  {
   "cell_type": "code",
   "execution_count": 6,
   "metadata": {},
   "outputs": [],
   "source": [
    "obesityRates = obesityRates.dropna()"
   ]
  },
  {
   "cell_type": "markdown",
   "metadata": {},
   "source": [
    "The sort_vales function sorts the data from least to greatest using the column \"2006-2010 estimate of obesity\"."
   ]
  },
  {
   "cell_type": "code",
   "execution_count": 7,
   "metadata": {},
   "outputs": [],
   "source": [
    "obesityRates = obesityRates.sort_values('2006-2010 estimate of obesity')"
   ]
  },
  {
   "cell_type": "markdown",
   "metadata": {},
   "source": [
    "Here I printed out the first 10 values again, with the now sorted data set."
   ]
  },
  {
   "cell_type": "code",
   "execution_count": 8,
   "metadata": {},
   "outputs": [
    {
     "data": {
      "text/html": [
       "<div>\n",
       "<style scoped>\n",
       "    .dataframe tbody tr th:only-of-type {\n",
       "        vertical-align: middle;\n",
       "    }\n",
       "\n",
       "    .dataframe tbody tr th {\n",
       "        vertical-align: top;\n",
       "    }\n",
       "\n",
       "    .dataframe thead th {\n",
       "        text-align: right;\n",
       "    }\n",
       "</style>\n",
       "<table border=\"1\" class=\"dataframe\">\n",
       "  <thead>\n",
       "    <tr style=\"text-align: right;\">\n",
       "      <th></th>\n",
       "      <th>stname</th>\n",
       "      <th>City Neighborhood</th>\n",
       "      <th>2006-2010 estimate of obesity</th>\n",
       "    </tr>\n",
       "  </thead>\n",
       "  <tbody>\n",
       "    <tr>\n",
       "      <th>369</th>\n",
       "      <td>Pennsylvania</td>\n",
       "      <td>North Oakland</td>\n",
       "      <td>0.070353</td>\n",
       "    </tr>\n",
       "    <tr>\n",
       "      <th>48</th>\n",
       "      <td>Pennsylvania</td>\n",
       "      <td>Squirrel Hill North</td>\n",
       "      <td>0.080288</td>\n",
       "    </tr>\n",
       "    <tr>\n",
       "      <th>6</th>\n",
       "      <td>Pennsylvania</td>\n",
       "      <td>Central Oakland</td>\n",
       "      <td>0.112780</td>\n",
       "    </tr>\n",
       "    <tr>\n",
       "      <th>18</th>\n",
       "      <td>Pennsylvania</td>\n",
       "      <td>Shadyside</td>\n",
       "      <td>0.118533</td>\n",
       "    </tr>\n",
       "    <tr>\n",
       "      <th>413</th>\n",
       "      <td>Pennsylvania</td>\n",
       "      <td>North Shore</td>\n",
       "      <td>0.121487</td>\n",
       "    </tr>\n",
       "    <tr>\n",
       "      <th>51</th>\n",
       "      <td>Pennsylvania</td>\n",
       "      <td>Point Breeze</td>\n",
       "      <td>0.148784</td>\n",
       "    </tr>\n",
       "    <tr>\n",
       "      <th>54</th>\n",
       "      <td>Pennsylvania</td>\n",
       "      <td>Squirrel Hill South</td>\n",
       "      <td>0.159693</td>\n",
       "    </tr>\n",
       "    <tr>\n",
       "      <th>55</th>\n",
       "      <td>Pennsylvania</td>\n",
       "      <td>Regent Square</td>\n",
       "      <td>0.160133</td>\n",
       "    </tr>\n",
       "    <tr>\n",
       "      <th>23</th>\n",
       "      <td>Pennsylvania</td>\n",
       "      <td>Bloomfield</td>\n",
       "      <td>0.181224</td>\n",
       "    </tr>\n",
       "    <tr>\n",
       "      <th>378</th>\n",
       "      <td>Pennsylvania</td>\n",
       "      <td>Allegheny West</td>\n",
       "      <td>0.206399</td>\n",
       "    </tr>\n",
       "  </tbody>\n",
       "</table>\n",
       "</div>"
      ],
      "text/plain": [
       "           stname    City Neighborhood  2006-2010 estimate of obesity\n",
       "369  Pennsylvania        North Oakland                       0.070353\n",
       "48   Pennsylvania  Squirrel Hill North                       0.080288\n",
       "6    Pennsylvania      Central Oakland                       0.112780\n",
       "18   Pennsylvania            Shadyside                       0.118533\n",
       "413  Pennsylvania          North Shore                       0.121487\n",
       "51   Pennsylvania         Point Breeze                       0.148784\n",
       "54   Pennsylvania  Squirrel Hill South                       0.159693\n",
       "55   Pennsylvania        Regent Square                       0.160133\n",
       "23   Pennsylvania           Bloomfield                       0.181224\n",
       "378  Pennsylvania       Allegheny West                       0.206399"
      ]
     },
     "execution_count": 8,
     "metadata": {},
     "output_type": "execute_result"
    }
   ],
   "source": [
    "obesityRates.head(10)"
   ]
  },
  {
   "cell_type": "markdown",
   "metadata": {},
   "source": [
    "For a visual, I used the plot.bar() function to create a bar graph showing the top 10 best neighborhoods according to my metric."
   ]
  },
  {
   "cell_type": "code",
   "execution_count": 9,
   "metadata": {},
   "outputs": [
    {
     "data": {
      "text/plain": [
       "<matplotlib.axes._subplots.AxesSubplot at 0x7ff49cac3640>"
      ]
     },
     "execution_count": 9,
     "metadata": {},
     "output_type": "execute_result"
    },
    {
     "data": {
      "image/png": "[encoded data removed]",
      "text/plain": [
       "<Figure size 432x288 with 1 Axes>"
      ]
     },
     "metadata": {
      "needs_background": "light"
     },
     "output_type": "display_data"
    }
   ],
   "source": [
    "obesityRates[:10].plot.bar(x='City Neighborhood')"
   ]
  },
  {
   "cell_type": "markdown",
   "metadata": {},
   "source": [
    "## The Best Neighborhood\n",
    "Using the metric that I have created and data including the obesity rates of neighborhoods in Allegheny County, the best nieghborhood is North Oakland. North Oakland has the lowest obesity rate at 0.070353.\n",
    "## Conclusion\n",
    "In sum, we have condluded that the best neighborhood is the healthiest neighborhood. If we were to actually find the healthiet neighborhood it would require a lot more datasets, however simply based on my metric, the best nighborhood is North Oakland. Personally, I wouldn't say that the overall best neighborhood is dependent on simply health. However, with my limited experience of Pittsburgh, I really enjoy and appreciate North Oakland, so I would argue that this is correct."
   ]
  },
  {
   "cell_type": "markdown",
   "metadata": {},
   "source": [
    "# LeAndre's Metric"
   ]
  },
  {
   "cell_type": "markdown",
   "metadata": {},
   "source": [
    "# Introduction: \n",
    "My metric defines best neighborhood based on the least amount of Covid Deaths with the most amount of people tested"
   ]
  },
  {
   "cell_type": "code",
   "execution_count": 60,
   "metadata": {},
   "outputs": [],
   "source": [
    "import pandas as pd\n",
    "import matplotlib.pyplot as plt\n",
    "import numpy as np\n",
    "from sklearn import preprocessing\n",
    "\n",
    "%matplotlib inline"
   ]
  },
  {
   "cell_type": "code",
   "execution_count": 61,
   "metadata": {},
   "outputs": [
    {
     "data": {
      "text/html": [
       "<div>\n",
       "<style scoped>\n",
       "    .dataframe tbody tr th:only-of-type {\n",
       "        vertical-align: middle;\n",
       "    }\n",
       "\n",
       "    .dataframe tbody tr th {\n",
       "        vertical-align: top;\n",
       "    }\n",
       "\n",
       "    .dataframe thead th {\n",
       "        text-align: right;\n",
       "    }\n",
       "</style>\n",
       "<table border=\"1\" class=\"dataframe\">\n",
       "  <thead>\n",
       "    <tr style=\"text-align: right;\">\n",
       "      <th></th>\n",
       "      <th>neighborhood_municipality</th>\n",
       "      <th>indv_tested</th>\n",
       "      <th>cases</th>\n",
       "      <th>deaths</th>\n",
       "      <th>update_date</th>\n",
       "    </tr>\n",
       "  </thead>\n",
       "  <tbody>\n",
       "    <tr>\n",
       "      <th>0</th>\n",
       "      <td>Aleppo</td>\n",
       "      <td>612</td>\n",
       "      <td>110</td>\n",
       "      <td>9</td>\n",
       "      <td>2021-04-05</td>\n",
       "    </tr>\n",
       "    <tr>\n",
       "      <th>1</th>\n",
       "      <td>Allegheny Center (Pittsburgh)</td>\n",
       "      <td>486</td>\n",
       "      <td>98</td>\n",
       "      <td>5</td>\n",
       "      <td>2021-04-05</td>\n",
       "    </tr>\n",
       "    <tr>\n",
       "      <th>2</th>\n",
       "      <td>Allegheny West (Pittsburgh)</td>\n",
       "      <td>216</td>\n",
       "      <td>28</td>\n",
       "      <td>0</td>\n",
       "      <td>2021-04-05</td>\n",
       "    </tr>\n",
       "    <tr>\n",
       "      <th>3</th>\n",
       "      <td>Allentown (Pittsburgh)</td>\n",
       "      <td>734</td>\n",
       "      <td>130</td>\n",
       "      <td>0</td>\n",
       "      <td>2021-04-05</td>\n",
       "    </tr>\n",
       "    <tr>\n",
       "      <th>4</th>\n",
       "      <td>Arlington (Pittsburgh)</td>\n",
       "      <td>537</td>\n",
       "      <td>116</td>\n",
       "      <td>5</td>\n",
       "      <td>2021-04-05</td>\n",
       "    </tr>\n",
       "  </tbody>\n",
       "</table>\n",
       "</div>"
      ],
      "text/plain": [
       "       neighborhood_municipality  indv_tested  cases  deaths update_date\n",
       "0                         Aleppo          612    110       9  2021-04-05\n",
       "1  Allegheny Center (Pittsburgh)          486     98       5  2021-04-05\n",
       "2    Allegheny West (Pittsburgh)          216     28       0  2021-04-05\n",
       "3         Allentown (Pittsburgh)          734    130       0  2021-04-05\n",
       "4         Arlington (Pittsburgh)          537    116       5  2021-04-05"
      ]
     },
     "execution_count": 61,
     "metadata": {},
     "output_type": "execute_result"
    }
   ],
   "source": [
    "df = pd.read_csv(\"covid_19_cases_by_place.csv\")\n",
    "\n",
    "df.head()"
   ]
  },
  {
   "cell_type": "code",
   "execution_count": 62,
   "metadata": {},
   "outputs": [
    {
     "data": {
      "text/plain": [
       "neighborhood_municipality    0\n",
       "indv_tested                  0\n",
       "cases                        0\n",
       "deaths                       0\n",
       "update_date                  0\n",
       "dtype: int64"
      ]
     },
     "execution_count": 62,
     "metadata": {},
     "output_type": "execute_result"
    }
   ],
   "source": [
    "#Check to make sure there is no missing data\n",
    "df.isnull().sum()"
   ]
  },
  {
   "cell_type": "markdown",
   "metadata": {},
   "source": [
    "## Drop columns I don't need"
   ]
  },
  {
   "cell_type": "code",
   "execution_count": 63,
   "metadata": {},
   "outputs": [],
   "source": [
    "df = df.drop(columns=['update_date', 'cases'])"
   ]
  },
  {
   "cell_type": "code",
   "execution_count": 64,
   "metadata": {},
   "outputs": [],
   "source": [
    "df.rename(columns = {'neighborhood_municipality':'Neighborhood', 'indv_tested':'INDV_Tested',\n",
    "                               'deaths':'Covid Deaths'}, inplace = True)"
   ]
  },
  {
   "cell_type": "code",
   "execution_count": 65,
   "metadata": {},
   "outputs": [
    {
     "data": {
      "text/html": [
       "<div>\n",
       "<style scoped>\n",
       "    .dataframe tbody tr th:only-of-type {\n",
       "        vertical-align: middle;\n",
       "    }\n",
       "\n",
       "    .dataframe tbody tr th {\n",
       "        vertical-align: top;\n",
       "    }\n",
       "\n",
       "    .dataframe thead th {\n",
       "        text-align: right;\n",
       "    }\n",
       "</style>\n",
       "<table border=\"1\" class=\"dataframe\">\n",
       "  <thead>\n",
       "    <tr style=\"text-align: right;\">\n",
       "      <th></th>\n",
       "      <th>Neighborhood</th>\n",
       "      <th>INDV_Tested</th>\n",
       "      <th>Covid Deaths</th>\n",
       "    </tr>\n",
       "  </thead>\n",
       "  <tbody>\n",
       "    <tr>\n",
       "      <th>0</th>\n",
       "      <td>Aleppo</td>\n",
       "      <td>612</td>\n",
       "      <td>9</td>\n",
       "    </tr>\n",
       "    <tr>\n",
       "      <th>1</th>\n",
       "      <td>Allegheny Center (Pittsburgh)</td>\n",
       "      <td>486</td>\n",
       "      <td>5</td>\n",
       "    </tr>\n",
       "    <tr>\n",
       "      <th>2</th>\n",
       "      <td>Allegheny West (Pittsburgh)</td>\n",
       "      <td>216</td>\n",
       "      <td>0</td>\n",
       "    </tr>\n",
       "    <tr>\n",
       "      <th>3</th>\n",
       "      <td>Allentown (Pittsburgh)</td>\n",
       "      <td>734</td>\n",
       "      <td>0</td>\n",
       "    </tr>\n",
       "    <tr>\n",
       "      <th>4</th>\n",
       "      <td>Arlington (Pittsburgh)</td>\n",
       "      <td>537</td>\n",
       "      <td>5</td>\n",
       "    </tr>\n",
       "  </tbody>\n",
       "</table>\n",
       "</div>"
      ],
      "text/plain": [
       "                    Neighborhood  INDV_Tested  Covid Deaths\n",
       "0                         Aleppo          612             9\n",
       "1  Allegheny Center (Pittsburgh)          486             5\n",
       "2    Allegheny West (Pittsburgh)          216             0\n",
       "3         Allentown (Pittsburgh)          734             0\n",
       "4         Arlington (Pittsburgh)          537             5"
      ]
     },
     "execution_count": 65,
     "metadata": {},
     "output_type": "execute_result"
    }
   ],
   "source": [
    "df.head()"
   ]
  },
  {
   "cell_type": "markdown",
   "metadata": {},
   "source": [
    "# Density Plot to see what percentage of the data has x amount of Covid Deaths"
   ]
  },
  {
   "cell_type": "code",
   "execution_count": 66,
   "metadata": {},
   "outputs": [
    {
     "data": {
      "text/plain": [
       "<AxesSubplot:ylabel='Density'>"
      ]
     },
     "execution_count": 66,
     "metadata": {},
     "output_type": "execute_result"
    },
    {
     "data": {
      "image/png": "[encoded data removed]",
      "text/plain": [
       "<Figure size 432x288 with 1 Axes>"
      ]
     },
     "metadata": {
      "needs_background": "light"
     },
     "output_type": "display_data"
    }
   ],
   "source": [
    "df[\"Covid Deaths\"].plot.density()"
   ]
  },
  {
   "cell_type": "markdown",
   "metadata": {},
   "source": [
    "Sort Neighborhoods from least amount of Covid Deaths to Greatest. Drop undefined neighborhoods"
   ]
  },
  {
   "cell_type": "code",
   "execution_count": 67,
   "metadata": {},
   "outputs": [
    {
     "data": {
      "text/html": [
       "<div>\n",
       "<style scoped>\n",
       "    .dataframe tbody tr th:only-of-type {\n",
       "        vertical-align: middle;\n",
       "    }\n",
       "\n",
       "    .dataframe tbody tr th {\n",
       "        vertical-align: top;\n",
       "    }\n",
       "\n",
       "    .dataframe thead th {\n",
       "        text-align: right;\n",
       "    }\n",
       "</style>\n",
       "<table border=\"1\" class=\"dataframe\">\n",
       "  <thead>\n",
       "    <tr style=\"text-align: right;\">\n",
       "      <th></th>\n",
       "      <th>Neighborhood</th>\n",
       "      <th>INDV_Tested</th>\n",
       "      <th>Covid Deaths</th>\n",
       "    </tr>\n",
       "  </thead>\n",
       "  <tbody>\n",
       "    <tr>\n",
       "      <th>62</th>\n",
       "      <td>Edgewood</td>\n",
       "      <td>1274</td>\n",
       "      <td>0</td>\n",
       "    </tr>\n",
       "    <tr>\n",
       "      <th>26</th>\n",
       "      <td>Bradford Woods</td>\n",
       "      <td>397</td>\n",
       "      <td>0</td>\n",
       "    </tr>\n",
       "    <tr>\n",
       "      <th>67</th>\n",
       "      <td>Emsworth</td>\n",
       "      <td>990</td>\n",
       "      <td>0</td>\n",
       "    </tr>\n",
       "    <tr>\n",
       "      <th>199</th>\n",
       "      <td>Undefined (Pittsburgh)</td>\n",
       "      <td>19</td>\n",
       "      <td>0</td>\n",
       "    </tr>\n",
       "    <tr>\n",
       "      <th>91</th>\n",
       "      <td>Haysville</td>\n",
       "      <td>19</td>\n",
       "      <td>0</td>\n",
       "    </tr>\n",
       "    <tr>\n",
       "      <th>...</th>\n",
       "      <td>...</td>\n",
       "      <td>...</td>\n",
       "      <td>...</td>\n",
       "    </tr>\n",
       "    <tr>\n",
       "      <th>125</th>\n",
       "      <td>Mount Lebanon</td>\n",
       "      <td>12361</td>\n",
       "      <td>59</td>\n",
       "    </tr>\n",
       "    <tr>\n",
       "      <th>144</th>\n",
       "      <td>Penn Hills</td>\n",
       "      <td>13201</td>\n",
       "      <td>60</td>\n",
       "    </tr>\n",
       "    <tr>\n",
       "      <th>116</th>\n",
       "      <td>McCandless</td>\n",
       "      <td>9589</td>\n",
       "      <td>85</td>\n",
       "    </tr>\n",
       "    <tr>\n",
       "      <th>162</th>\n",
       "      <td>Ross</td>\n",
       "      <td>10726</td>\n",
       "      <td>85</td>\n",
       "    </tr>\n",
       "    <tr>\n",
       "      <th>122</th>\n",
       "      <td>Monroeville</td>\n",
       "      <td>11082</td>\n",
       "      <td>87</td>\n",
       "    </tr>\n",
       "  </tbody>\n",
       "</table>\n",
       "<p>221 rows × 3 columns</p>\n",
       "</div>"
      ],
      "text/plain": [
       "               Neighborhood  INDV_Tested  Covid Deaths\n",
       "62                 Edgewood         1274             0\n",
       "26           Bradford Woods          397             0\n",
       "67                 Emsworth          990             0\n",
       "199  Undefined (Pittsburgh)           19             0\n",
       "91                Haysville           19             0\n",
       "..                      ...          ...           ...\n",
       "125           Mount Lebanon        12361            59\n",
       "144              Penn Hills        13201            60\n",
       "116              McCandless         9589            85\n",
       "162                    Ross        10726            85\n",
       "122             Monroeville        11082            87\n",
       "\n",
       "[221 rows x 3 columns]"
      ]
     },
     "execution_count": 67,
     "metadata": {},
     "output_type": "execute_result"
    }
   ],
   "source": [
    "df.sort_values('Covid Deaths')"
   ]
  },
  {
   "cell_type": "code",
   "execution_count": 68,
   "metadata": {},
   "outputs": [],
   "source": [
    "#Drop undefined Neighborhoods\n",
    "df = df.drop([199])"
   ]
  },
  {
   "cell_type": "markdown",
   "metadata": {},
   "source": [
    "Since the top ten cities have 0 Covid Deaths. The best neighborhood will be the one with the most tests plus zero Covid Deaths"
   ]
  },
  {
   "cell_type": "code",
   "execution_count": 69,
   "metadata": {},
   "outputs": [
    {
     "data": {
      "text/html": [
       "<div>\n",
       "<style scoped>\n",
       "    .dataframe tbody tr th:only-of-type {\n",
       "        vertical-align: middle;\n",
       "    }\n",
       "\n",
       "    .dataframe tbody tr th {\n",
       "        vertical-align: top;\n",
       "    }\n",
       "\n",
       "    .dataframe thead th {\n",
       "        text-align: right;\n",
       "    }\n",
       "</style>\n",
       "<table border=\"1\" class=\"dataframe\">\n",
       "  <thead>\n",
       "    <tr style=\"text-align: right;\">\n",
       "      <th></th>\n",
       "      <th>Neighborhood</th>\n",
       "      <th>INDV_Tested</th>\n",
       "      <th>Covid Deaths</th>\n",
       "    </tr>\n",
       "  </thead>\n",
       "  <tbody>\n",
       "    <tr>\n",
       "      <th>35</th>\n",
       "      <td>Central Business District (Pittsburgh)</td>\n",
       "      <td>2689</td>\n",
       "      <td>0</td>\n",
       "    </tr>\n",
       "    <tr>\n",
       "      <th>38</th>\n",
       "      <td>Central Oakland (Pittsburgh)</td>\n",
       "      <td>2236</td>\n",
       "      <td>0</td>\n",
       "    </tr>\n",
       "    <tr>\n",
       "      <th>188</th>\n",
       "      <td>Strip District (Pittsburgh)</td>\n",
       "      <td>894</td>\n",
       "      <td>0</td>\n",
       "    </tr>\n",
       "    <tr>\n",
       "      <th>182</th>\n",
       "      <td>Springdale Township</td>\n",
       "      <td>517</td>\n",
       "      <td>0</td>\n",
       "    </tr>\n",
       "    <tr>\n",
       "      <th>57</th>\n",
       "      <td>East Deer</td>\n",
       "      <td>465</td>\n",
       "      <td>0</td>\n",
       "    </tr>\n",
       "    <tr>\n",
       "      <th>179</th>\n",
       "      <td>Spring Garden (Pittsburgh)</td>\n",
       "      <td>227</td>\n",
       "      <td>0</td>\n",
       "    </tr>\n",
       "    <tr>\n",
       "      <th>40</th>\n",
       "      <td>Chartiers City (Pittsburgh)</td>\n",
       "      <td>154</td>\n",
       "      <td>0</td>\n",
       "    </tr>\n",
       "    <tr>\n",
       "      <th>128</th>\n",
       "      <td>Mt. Oliver (Pittsburgh)</td>\n",
       "      <td>121</td>\n",
       "      <td>0</td>\n",
       "    </tr>\n",
       "    <tr>\n",
       "      <th>163</th>\n",
       "      <td>Rosslyn Farms</td>\n",
       "      <td>120</td>\n",
       "      <td>0</td>\n",
       "    </tr>\n",
       "    <tr>\n",
       "      <th>185</th>\n",
       "      <td>St. Clair (Pittsburgh)</td>\n",
       "      <td>52</td>\n",
       "      <td>0</td>\n",
       "    </tr>\n",
       "  </tbody>\n",
       "</table>\n",
       "</div>"
      ],
      "text/plain": [
       "                               Neighborhood  INDV_Tested  Covid Deaths\n",
       "35   Central Business District (Pittsburgh)         2689             0\n",
       "38             Central Oakland (Pittsburgh)         2236             0\n",
       "188             Strip District (Pittsburgh)          894             0\n",
       "182                     Springdale Township          517             0\n",
       "57                                East Deer          465             0\n",
       "179              Spring Garden (Pittsburgh)          227             0\n",
       "40              Chartiers City (Pittsburgh)          154             0\n",
       "128                 Mt. Oliver (Pittsburgh)          121             0\n",
       "163                           Rosslyn Farms          120             0\n",
       "185                  St. Clair (Pittsburgh)           52             0"
      ]
     },
     "execution_count": 69,
     "metadata": {},
     "output_type": "execute_result"
    }
   ],
   "source": [
    "df = df.sort_values(by=['Covid Deaths'],axis=0,ascending=True,inplace=False,kind='quicksort',na_position='last',ignore_index=False,key=None).head(10)\n",
    "df.sort_values(by=['INDV_Tested'], ascending=False)"
   ]
  },
  {
   "cell_type": "code",
   "execution_count": 70,
   "metadata": {},
   "outputs": [
    {
     "data": {
      "image/png": "[encoded data removed]",
      "text/plain": [
       "<Figure size 432x288 with 1 Axes>"
      ]
     },
     "metadata": {
      "needs_background": "light"
     },
     "output_type": "display_data"
    }
   ],
   "source": [
    "df = df.sort_values(by=['INDV_Tested'],axis=0,ascending=True,inplace=False,kind='quicksort',na_position='last',ignore_index=False,key=None).head(10)\n",
    "plt.bar(\"Neighborhood\", \"INDV_Tested\", data=df, color=\"blue\")\n",
    "plt.xlabel(\"Neighborhood\")\n",
    "plt.xticks(rotation=90)\n",
    "plt.ylabel(\"indv_tested\")\n",
    "plt.title(\"Top 10 Neighborhood based on Individual's Tested and Zero Deaths\")\n",
    "plt.show()"
   ]
  },
  {
   "cell_type": "markdown",
   "metadata": {},
   "source": [
    "# Conclusion: \n",
    "Central Business Distric has the most indivduals tested while maintaining zero Covid Deaths. I am not surprised because many businesses probably require many of their employees to be tested. Also, if they are working age adults they are least likely to die from Covid compared to elderly"
   ]
  },
  {
   "cell_type": "markdown",
   "metadata": {},
   "source": [
    "## Lily's Metric Winners:\n",
    "North Oakland = 10\n",
    "\n",
    "Squirrel Hill North = 9\n",
    "\n",
    "Central Oakland = 8\n",
    "\n",
    "<img src=\"Capture.PNG\" alt=\"chart\">\n",
    "<img src=\"Capture1.PNG\" alt=\"chart\">\n",
    "\n",
    "## LeAndre's Metric Winners:\n",
    "Central Business Distric = 10\n",
    "\n",
    "Central Oakland = 9\n",
    "\n",
    "Strip District = 8\n",
    "\n",
    "<img src=\"6.PNG\" alt=\"chart\">\n",
    "<img src=\"7.PNG\" alt=\"chart\">\n",
    "\n",
    "## Overall Totals:\n",
    "North Oakland = 19\n",
    "\n",
    "Squirrel Hill North = 18\n",
    "\n",
    "Central Oakland = 17\n",
    "\n",
    "Chateau = 10\n",
    "\n",
    "Squirrel Hill South = 10\n",
    "\n",
    "Edgeville = 8\n",
    "\n",
    "Banksville = 8\n",
    "\n",
    "Central Business District = 8\n",
    "\n",
    "Strip District = 8\n",
    "\n",
    "## Team Conclusion\n",
    "After totalling all of the scores from each individual metric, we have deterimined that North Oakland is the best neighborhood around the Pittsburgh area. We determined this based on the metric that the best neighborhood implies that it is the healthiest overall neighborhood in Pittsburgh. North Oakland had the second highest median age of death and it had the lowest overall obesity rate. Because of the results from the metrics we analyzed, we have concluded that North Oakland is the best neighborhood in the Pittsburgh area."
   ]
  },
  {
   "cell_type": "code",
   "execution_count": null,
   "metadata": {},
   "outputs": [],
   "source": []
  }
 ],
 "metadata": {
  "kernelspec": {
   "display_name": "Python 3",
   "language": "python",
   "name": "python3"
  },
  "language_info": {
   "codemirror_mode": {
    "name": "ipython",
    "version": 3
   },
   "file_extension": ".py",
   "mimetype": "text/x-python",
   "name": "python",
   "nbconvert_exporter": "python",
   "pygments_lexer": "ipython3",
   "version": "3.8.5"
  }
 },
 "nbformat": 4,
 "nbformat_minor": 4
}

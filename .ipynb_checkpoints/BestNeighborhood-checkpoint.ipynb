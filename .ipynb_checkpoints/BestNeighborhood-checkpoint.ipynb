{
 "cells": [
  {
   "cell_type": "markdown",
   "metadata": {},
   "source": [
    "## Cade's Metric Winners:\n",
    "Chateau = 10\n",
    "\n",
    "Squirrel Hill North = 9\n",
    "\n",
    "Edgeworth = 8\n",
    "\n",
    "<img src=\"2.PNG\" alt=\"chart\">\n",
    "<img src=\"3.PNG\" alt=\"chart\">"
   ]
  },
  {
   "cell_type": "markdown",
   "metadata": {},
   "source": [
    "<img src=\"Capture.PNG\" alt=\"chart\">"
   ]
  },
  {
   "cell_type": "markdown",
   "metadata": {},
   "source": [
    "## Noah's Metric Winners:\n",
    "Squirrel Hill South = 10\n",
    "\n",
    "North Oakland = 9\n",
    "\n",
    "Banksville = 8\n",
    "\n",
    "<img src=\"4.PNG\" alt=\"chart\">\n",
    "<img src=\"5.PNG\" alt=\"chart\">\n",
    "\n",
    "## Lily's Metric Winners:\n",
    "North Oakland = 10\n",
    "\n",
    "Squirrel Hill North = 9\n",
    "\n",
    "Central Oakland = 8\n",
    "\n",
    "<img src=\"Capture.PNG\" alt=\"chart\">\n",
    "<img src=\"Capture1.PNG\" alt=\"chart\">\n",
    "\n",
    "## LeAndre's Metric Winners:\n",
    "Central Business Distric = 10\n",
    "\n",
    "Central Oakland = 9\n",
    "\n",
    "Strip District = 8\n",
    "\n",
    "<img src=\"6.PNG\" alt=\"chart\">\n",
    "<img src=\"7.PNG\" alt=\"chart\">\n",
    "\n",
    "## Overall Totals:\n",
    "North Oakland = 19\n",
    "\n",
    "Squirrel Hill North = 18\n",
    "\n",
    "Central Oakland = 17\n",
    "\n",
    "Chateau = 10\n",
    "\n",
    "Squirrel Hill South = 10\n",
    "\n",
    "Edgeville = 8\n",
    "\n",
    "Banksville = 8\n",
    "\n",
    "Central Business District = 8\n",
    "\n",
    "Strip District = 8\n",
    "\n",
    "## Conclusion\n",
    "After totalling all of the scores from each individual metric, we have deterimined that North Oakland is the best neighborhood around the Pittsburgh area. We determined this based on the metric that the best neighborhood implies that it is the healthiest overall neighborhood in Pittsburgh. North Oakland had the second highest median age of death and it had the lowest overall obesity rate. Because of the results from the metrics we analyzed, we have concluded that North Oakland is the best neighborhood in the Pittsburgh area."
   ]
  },
  {
   "cell_type": "code",
   "execution_count": null,
   "metadata": {},
   "outputs": [],
   "source": []
  }
 ],
 "metadata": {
  "kernelspec": {
   "display_name": "Python 3",
   "language": "python",
   "name": "python3"
  },
  "language_info": {
   "codemirror_mode": {
    "name": "ipython",
    "version": 3
   },
   "file_extension": ".py",
   "mimetype": "text/x-python",
   "name": "python",
   "nbconvert_exporter": "python",
   "pygments_lexer": "ipython3",
   "version": "3.8.3"
  }
 },
 "nbformat": 4,
 "nbformat_minor": 4
}

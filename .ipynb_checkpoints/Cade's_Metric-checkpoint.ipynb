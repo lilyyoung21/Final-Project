{
 "cells": [
  {
   "cell_type": "markdown",
   "metadata": {},
   "source": [
    "## Introduction"
   ]
  },
  {
   "cell_type": "markdown",
   "metadata": {},
   "source": [
    "Our group decided that there are many different ways that we could determine what should be considered the \"best\" neighborhood in Pittsburgh.  We determined that \"bestness\" should be decided based upon how healthy each neighborhood is.  Therefore, the healthiest neighborhood will be the \"best\" neighborhood in Pittsburg.  For my metric, I decided to look at the amount of covid cases each neighborhood had and determine the ratio of positive cases to total amount of individuals tested.  The neighborhood with the lowest ratio will be considered the healthiest neighborhood for my metric."
   ]
  },
  {
   "cell_type": "code",
   "execution_count": 1,
   "metadata": {},
   "outputs": [],
   "source": [
    "import pandas as pd\n",
    "import matplotlib.pyplot as plt      ##importing pandas and matplotlib\n",
    "%matplotlib inline"
   ]
  },
  {
   "cell_type": "code",
   "execution_count": 2,
   "metadata": {},
   "outputs": [],
   "source": [
    "df = pd.read_csv('covid_19_cases_by_place.csv')    ##reading in the csv file"
   ]
  },
  {
   "cell_type": "code",
   "execution_count": 3,
   "metadata": {},
   "outputs": [
    {
     "data": {
      "text/html": [
       "<div>\n",
       "<style scoped>\n",
       "    .dataframe tbody tr th:only-of-type {\n",
       "        vertical-align: middle;\n",
       "    }\n",
       "\n",
       "    .dataframe tbody tr th {\n",
       "        vertical-align: top;\n",
       "    }\n",
       "\n",
       "    .dataframe thead th {\n",
       "        text-align: right;\n",
       "    }\n",
       "</style>\n",
       "<table border=\"1\" class=\"dataframe\">\n",
       "  <thead>\n",
       "    <tr style=\"text-align: right;\">\n",
       "      <th></th>\n",
       "      <th>neighborhood_municipality</th>\n",
       "      <th>indv_tested</th>\n",
       "      <th>cases</th>\n",
       "      <th>deaths</th>\n",
       "      <th>update_date</th>\n",
       "    </tr>\n",
       "  </thead>\n",
       "  <tbody>\n",
       "    <tr>\n",
       "      <th>0</th>\n",
       "      <td>Aleppo</td>\n",
       "      <td>612</td>\n",
       "      <td>110</td>\n",
       "      <td>9</td>\n",
       "      <td>2021-04-05</td>\n",
       "    </tr>\n",
       "    <tr>\n",
       "      <th>1</th>\n",
       "      <td>Allegheny Center (Pittsburgh)</td>\n",
       "      <td>486</td>\n",
       "      <td>98</td>\n",
       "      <td>5</td>\n",
       "      <td>2021-04-05</td>\n",
       "    </tr>\n",
       "    <tr>\n",
       "      <th>2</th>\n",
       "      <td>Allegheny West (Pittsburgh)</td>\n",
       "      <td>216</td>\n",
       "      <td>28</td>\n",
       "      <td>0</td>\n",
       "      <td>2021-04-05</td>\n",
       "    </tr>\n",
       "    <tr>\n",
       "      <th>3</th>\n",
       "      <td>Allentown (Pittsburgh)</td>\n",
       "      <td>734</td>\n",
       "      <td>130</td>\n",
       "      <td>0</td>\n",
       "      <td>2021-04-05</td>\n",
       "    </tr>\n",
       "    <tr>\n",
       "      <th>4</th>\n",
       "      <td>Arlington (Pittsburgh)</td>\n",
       "      <td>537</td>\n",
       "      <td>116</td>\n",
       "      <td>5</td>\n",
       "      <td>2021-04-05</td>\n",
       "    </tr>\n",
       "    <tr>\n",
       "      <th>...</th>\n",
       "      <td>...</td>\n",
       "      <td>...</td>\n",
       "      <td>...</td>\n",
       "      <td>...</td>\n",
       "      <td>...</td>\n",
       "    </tr>\n",
       "    <tr>\n",
       "      <th>216</th>\n",
       "      <td>Whitehall</td>\n",
       "      <td>5318</td>\n",
       "      <td>1554</td>\n",
       "      <td>46</td>\n",
       "      <td>2021-04-05</td>\n",
       "    </tr>\n",
       "    <tr>\n",
       "      <th>217</th>\n",
       "      <td>Wilkins</td>\n",
       "      <td>2115</td>\n",
       "      <td>436</td>\n",
       "      <td>6</td>\n",
       "      <td>2021-04-05</td>\n",
       "    </tr>\n",
       "    <tr>\n",
       "      <th>218</th>\n",
       "      <td>Wilkinsburg</td>\n",
       "      <td>5576</td>\n",
       "      <td>929</td>\n",
       "      <td>29</td>\n",
       "      <td>2021-04-05</td>\n",
       "    </tr>\n",
       "    <tr>\n",
       "      <th>219</th>\n",
       "      <td>Wilmerding</td>\n",
       "      <td>535</td>\n",
       "      <td>119</td>\n",
       "      <td>1</td>\n",
       "      <td>2021-04-05</td>\n",
       "    </tr>\n",
       "    <tr>\n",
       "      <th>220</th>\n",
       "      <td>Windgap (Pittsburgh)</td>\n",
       "      <td>395</td>\n",
       "      <td>79</td>\n",
       "      <td>1</td>\n",
       "      <td>2021-04-05</td>\n",
       "    </tr>\n",
       "  </tbody>\n",
       "</table>\n",
       "<p>221 rows × 5 columns</p>\n",
       "</div>"
      ],
      "text/plain": [
       "         neighborhood_municipality  indv_tested  cases  deaths update_date\n",
       "0                           Aleppo          612    110       9  2021-04-05\n",
       "1    Allegheny Center (Pittsburgh)          486     98       5  2021-04-05\n",
       "2      Allegheny West (Pittsburgh)          216     28       0  2021-04-05\n",
       "3           Allentown (Pittsburgh)          734    130       0  2021-04-05\n",
       "4           Arlington (Pittsburgh)          537    116       5  2021-04-05\n",
       "..                             ...          ...    ...     ...         ...\n",
       "216                      Whitehall         5318   1554      46  2021-04-05\n",
       "217                        Wilkins         2115    436       6  2021-04-05\n",
       "218                    Wilkinsburg         5576    929      29  2021-04-05\n",
       "219                     Wilmerding          535    119       1  2021-04-05\n",
       "220           Windgap (Pittsburgh)          395     79       1  2021-04-05\n",
       "\n",
       "[221 rows x 5 columns]"
      ]
     },
     "execution_count": 3,
     "metadata": {},
     "output_type": "execute_result"
    }
   ],
   "source": [
    "df   ##checking to see if csv was imported correctly"
   ]
  },
  {
   "cell_type": "code",
   "execution_count": 4,
   "metadata": {},
   "outputs": [
    {
     "data": {
      "text/html": [
       "<div>\n",
       "<style scoped>\n",
       "    .dataframe tbody tr th:only-of-type {\n",
       "        vertical-align: middle;\n",
       "    }\n",
       "\n",
       "    .dataframe tbody tr th {\n",
       "        vertical-align: top;\n",
       "    }\n",
       "\n",
       "    .dataframe thead th {\n",
       "        text-align: right;\n",
       "    }\n",
       "</style>\n",
       "<table border=\"1\" class=\"dataframe\">\n",
       "  <thead>\n",
       "    <tr style=\"text-align: right;\">\n",
       "      <th></th>\n",
       "      <th>neighborhood_municipality</th>\n",
       "      <th>indv_tested</th>\n",
       "      <th>cases</th>\n",
       "      <th>deaths</th>\n",
       "      <th>update_date</th>\n",
       "    </tr>\n",
       "  </thead>\n",
       "  <tbody>\n",
       "    <tr>\n",
       "      <th>0</th>\n",
       "      <td>Aleppo</td>\n",
       "      <td>612</td>\n",
       "      <td>110</td>\n",
       "      <td>9</td>\n",
       "      <td>2021-04-05</td>\n",
       "    </tr>\n",
       "    <tr>\n",
       "      <th>1</th>\n",
       "      <td>Allegheny Center (Pittsburgh)</td>\n",
       "      <td>486</td>\n",
       "      <td>98</td>\n",
       "      <td>5</td>\n",
       "      <td>2021-04-05</td>\n",
       "    </tr>\n",
       "    <tr>\n",
       "      <th>2</th>\n",
       "      <td>Allegheny West (Pittsburgh)</td>\n",
       "      <td>216</td>\n",
       "      <td>28</td>\n",
       "      <td>0</td>\n",
       "      <td>2021-04-05</td>\n",
       "    </tr>\n",
       "    <tr>\n",
       "      <th>3</th>\n",
       "      <td>Allentown (Pittsburgh)</td>\n",
       "      <td>734</td>\n",
       "      <td>130</td>\n",
       "      <td>0</td>\n",
       "      <td>2021-04-05</td>\n",
       "    </tr>\n",
       "    <tr>\n",
       "      <th>4</th>\n",
       "      <td>Arlington (Pittsburgh)</td>\n",
       "      <td>537</td>\n",
       "      <td>116</td>\n",
       "      <td>5</td>\n",
       "      <td>2021-04-05</td>\n",
       "    </tr>\n",
       "    <tr>\n",
       "      <th>5</th>\n",
       "      <td>Arlington Heights (Pittsburgh)</td>\n",
       "      <td>77</td>\n",
       "      <td>9</td>\n",
       "      <td>2</td>\n",
       "      <td>2021-04-05</td>\n",
       "    </tr>\n",
       "    <tr>\n",
       "      <th>6</th>\n",
       "      <td>Aspinwall</td>\n",
       "      <td>1030</td>\n",
       "      <td>148</td>\n",
       "      <td>1</td>\n",
       "      <td>2021-04-05</td>\n",
       "    </tr>\n",
       "    <tr>\n",
       "      <th>7</th>\n",
       "      <td>Avalon</td>\n",
       "      <td>1533</td>\n",
       "      <td>304</td>\n",
       "      <td>9</td>\n",
       "      <td>2021-04-05</td>\n",
       "    </tr>\n",
       "    <tr>\n",
       "      <th>8</th>\n",
       "      <td>Baldwin Borough</td>\n",
       "      <td>7526</td>\n",
       "      <td>2295</td>\n",
       "      <td>48</td>\n",
       "      <td>2021-04-05</td>\n",
       "    </tr>\n",
       "    <tr>\n",
       "      <th>9</th>\n",
       "      <td>Baldwin Township</td>\n",
       "      <td>647</td>\n",
       "      <td>156</td>\n",
       "      <td>1</td>\n",
       "      <td>2021-04-05</td>\n",
       "    </tr>\n",
       "  </tbody>\n",
       "</table>\n",
       "</div>"
      ],
      "text/plain": [
       "        neighborhood_municipality  indv_tested  cases  deaths update_date\n",
       "0                          Aleppo          612    110       9  2021-04-05\n",
       "1   Allegheny Center (Pittsburgh)          486     98       5  2021-04-05\n",
       "2     Allegheny West (Pittsburgh)          216     28       0  2021-04-05\n",
       "3          Allentown (Pittsburgh)          734    130       0  2021-04-05\n",
       "4          Arlington (Pittsburgh)          537    116       5  2021-04-05\n",
       "5  Arlington Heights (Pittsburgh)           77      9       2  2021-04-05\n",
       "6                       Aspinwall         1030    148       1  2021-04-05\n",
       "7                          Avalon         1533    304       9  2021-04-05\n",
       "8                 Baldwin Borough         7526   2295      48  2021-04-05\n",
       "9                Baldwin Township          647    156       1  2021-04-05"
      ]
     },
     "execution_count": 4,
     "metadata": {},
     "output_type": "execute_result"
    }
   ],
   "source": [
    "df.head(10)   ##printing out first 10 elements of csv"
   ]
  },
  {
   "cell_type": "code",
   "execution_count": 5,
   "metadata": {},
   "outputs": [
    {
     "data": {
      "text/plain": [
       "neighborhood_municipality     Undefined\n",
       "indv_tested                       20561\n",
       "cases                              1661\n",
       "deaths                               27\n",
       "update_date                  2021-04-05\n",
       "Name: 198, dtype: object"
      ]
     },
     "execution_count": 5,
     "metadata": {},
     "output_type": "execute_result"
    }
   ],
   "source": [
    "df.iloc[198]  ##showing undefined rows"
   ]
  },
  {
   "cell_type": "code",
   "execution_count": 6,
   "metadata": {},
   "outputs": [
    {
     "data": {
      "text/plain": [
       "neighborhood_municipality    Undefined (Pittsburgh)\n",
       "indv_tested                                      19\n",
       "cases                                             3\n",
       "deaths                                            0\n",
       "update_date                              2021-04-05\n",
       "Name: 199, dtype: object"
      ]
     },
     "execution_count": 6,
     "metadata": {},
     "output_type": "execute_result"
    }
   ],
   "source": [
    "df.iloc[199]  ##showing undefined rows"
   ]
  },
  {
   "cell_type": "code",
   "execution_count": 7,
   "metadata": {},
   "outputs": [
    {
     "data": {
      "text/plain": [
       "neighborhood_municipality    Upper Hill (Pittsburgh)\n",
       "indv_tested                                      670\n",
       "cases                                            110\n",
       "deaths                                             4\n",
       "update_date                               2021-04-05\n",
       "Name: 200, dtype: object"
      ]
     },
     "execution_count": 7,
     "metadata": {},
     "output_type": "execute_result"
    }
   ],
   "source": [
    "df.drop(198, inplace = True)\n",
    "df.drop(199, inplace = True)   ##removed undefined rows\n",
    "df.iloc[198]         ##showing rows were removed successfully"
   ]
  },
  {
   "cell_type": "code",
   "execution_count": 8,
   "metadata": {},
   "outputs": [
    {
     "data": {
      "text/plain": [
       "neighborhood_municipality    Upper Lawrenceville (Pittsburgh)\n",
       "indv_tested                                              1059\n",
       "cases                                                     128\n",
       "deaths                                                      2\n",
       "update_date                                        2021-04-05\n",
       "Name: 201, dtype: object"
      ]
     },
     "execution_count": 8,
     "metadata": {},
     "output_type": "execute_result"
    }
   ],
   "source": [
    "df.iloc[199]   ##showing rows were removed successfully"
   ]
  },
  {
   "cell_type": "markdown",
   "metadata": {},
   "source": [
    "#removes cases, deaths,and update_date columns from table"
   ]
  },
  {
   "cell_type": "code",
   "execution_count": 9,
   "metadata": {},
   "outputs": [
    {
     "data": {
      "text/html": [
       "<div>\n",
       "<style scoped>\n",
       "    .dataframe tbody tr th:only-of-type {\n",
       "        vertical-align: middle;\n",
       "    }\n",
       "\n",
       "    .dataframe tbody tr th {\n",
       "        vertical-align: top;\n",
       "    }\n",
       "\n",
       "    .dataframe thead th {\n",
       "        text-align: right;\n",
       "    }\n",
       "</style>\n",
       "<table border=\"1\" class=\"dataframe\">\n",
       "  <thead>\n",
       "    <tr style=\"text-align: right;\">\n",
       "      <th></th>\n",
       "      <th>neighborhood_municipality</th>\n",
       "      <th>indv_tested</th>\n",
       "    </tr>\n",
       "  </thead>\n",
       "  <tbody>\n",
       "    <tr>\n",
       "      <th>0</th>\n",
       "      <td>Aleppo</td>\n",
       "      <td>612</td>\n",
       "    </tr>\n",
       "    <tr>\n",
       "      <th>1</th>\n",
       "      <td>Allegheny Center (Pittsburgh)</td>\n",
       "      <td>486</td>\n",
       "    </tr>\n",
       "    <tr>\n",
       "      <th>2</th>\n",
       "      <td>Allegheny West (Pittsburgh)</td>\n",
       "      <td>216</td>\n",
       "    </tr>\n",
       "    <tr>\n",
       "      <th>3</th>\n",
       "      <td>Allentown (Pittsburgh)</td>\n",
       "      <td>734</td>\n",
       "    </tr>\n",
       "    <tr>\n",
       "      <th>4</th>\n",
       "      <td>Arlington (Pittsburgh)</td>\n",
       "      <td>537</td>\n",
       "    </tr>\n",
       "    <tr>\n",
       "      <th>5</th>\n",
       "      <td>Arlington Heights (Pittsburgh)</td>\n",
       "      <td>77</td>\n",
       "    </tr>\n",
       "    <tr>\n",
       "      <th>6</th>\n",
       "      <td>Aspinwall</td>\n",
       "      <td>1030</td>\n",
       "    </tr>\n",
       "    <tr>\n",
       "      <th>7</th>\n",
       "      <td>Avalon</td>\n",
       "      <td>1533</td>\n",
       "    </tr>\n",
       "    <tr>\n",
       "      <th>8</th>\n",
       "      <td>Baldwin Borough</td>\n",
       "      <td>7526</td>\n",
       "    </tr>\n",
       "    <tr>\n",
       "      <th>9</th>\n",
       "      <td>Baldwin Township</td>\n",
       "      <td>647</td>\n",
       "    </tr>\n",
       "  </tbody>\n",
       "</table>\n",
       "</div>"
      ],
      "text/plain": [
       "        neighborhood_municipality  indv_tested\n",
       "0                          Aleppo          612\n",
       "1   Allegheny Center (Pittsburgh)          486\n",
       "2     Allegheny West (Pittsburgh)          216\n",
       "3          Allentown (Pittsburgh)          734\n",
       "4          Arlington (Pittsburgh)          537\n",
       "5  Arlington Heights (Pittsburgh)           77\n",
       "6                       Aspinwall         1030\n",
       "7                          Avalon         1533\n",
       "8                 Baldwin Borough         7526\n",
       "9                Baldwin Township          647"
      ]
     },
     "execution_count": 9,
     "metadata": {},
     "output_type": "execute_result"
    }
   ],
   "source": [
    "data_drop = df.drop(['cases', 'deaths', 'update_date'], axis=1) \n",
    "data_drop.head(10)"
   ]
  },
  {
   "cell_type": "markdown",
   "metadata": {},
   "source": [
    "#sorting the values to obtain the neighborhoods with the highest numbers of individuals tested"
   ]
  },
  {
   "cell_type": "code",
   "execution_count": 10,
   "metadata": {},
   "outputs": [
    {
     "data": {
      "text/html": [
       "<div>\n",
       "<style scoped>\n",
       "    .dataframe tbody tr th:only-of-type {\n",
       "        vertical-align: middle;\n",
       "    }\n",
       "\n",
       "    .dataframe tbody tr th {\n",
       "        vertical-align: top;\n",
       "    }\n",
       "\n",
       "    .dataframe thead th {\n",
       "        text-align: right;\n",
       "    }\n",
       "</style>\n",
       "<table border=\"1\" class=\"dataframe\">\n",
       "  <thead>\n",
       "    <tr style=\"text-align: right;\">\n",
       "      <th></th>\n",
       "      <th>neighborhood_municipality</th>\n",
       "      <th>indv_tested</th>\n",
       "    </tr>\n",
       "  </thead>\n",
       "  <tbody>\n",
       "    <tr>\n",
       "      <th>149</th>\n",
       "      <td>Pitcairn</td>\n",
       "      <td>10</td>\n",
       "    </tr>\n",
       "    <tr>\n",
       "      <th>195</th>\n",
       "      <td>Trafford</td>\n",
       "      <td>11</td>\n",
       "    </tr>\n",
       "    <tr>\n",
       "      <th>41</th>\n",
       "      <td>Chateau (Pittsburgh)</td>\n",
       "      <td>16</td>\n",
       "    </tr>\n",
       "    <tr>\n",
       "      <th>91</th>\n",
       "      <td>Haysville</td>\n",
       "      <td>19</td>\n",
       "    </tr>\n",
       "    <tr>\n",
       "      <th>185</th>\n",
       "      <td>St. Clair (Pittsburgh)</td>\n",
       "      <td>52</td>\n",
       "    </tr>\n",
       "    <tr>\n",
       "      <th>68</th>\n",
       "      <td>Esplen (Pittsburgh)</td>\n",
       "      <td>55</td>\n",
       "    </tr>\n",
       "    <tr>\n",
       "      <th>84</th>\n",
       "      <td>Glenfield</td>\n",
       "      <td>62</td>\n",
       "    </tr>\n",
       "    <tr>\n",
       "      <th>118</th>\n",
       "      <td>Mcdonald</td>\n",
       "      <td>76</td>\n",
       "    </tr>\n",
       "    <tr>\n",
       "      <th>5</th>\n",
       "      <td>Arlington Heights (Pittsburgh)</td>\n",
       "      <td>77</td>\n",
       "    </tr>\n",
       "    <tr>\n",
       "      <th>208</th>\n",
       "      <td>West End (Pittsburgh)</td>\n",
       "      <td>82</td>\n",
       "    </tr>\n",
       "  </tbody>\n",
       "</table>\n",
       "</div>"
      ],
      "text/plain": [
       "          neighborhood_municipality  indv_tested\n",
       "149                        Pitcairn           10\n",
       "195                        Trafford           11\n",
       "41             Chateau (Pittsburgh)           16\n",
       "91                        Haysville           19\n",
       "185          St. Clair (Pittsburgh)           52\n",
       "68              Esplen (Pittsburgh)           55\n",
       "84                        Glenfield           62\n",
       "118                        Mcdonald           76\n",
       "5    Arlington Heights (Pittsburgh)           77\n",
       "208           West End (Pittsburgh)           82"
      ]
     },
     "execution_count": 10,
     "metadata": {},
     "output_type": "execute_result"
    }
   ],
   "source": [
    "data_drop = data_drop.sort_values(by=['indv_tested'],axis=0,ascending=True,inplace=False,kind='quicksort',na_position='last',ignore_index=False,key=None).head(10)\n",
    "data_drop"
   ]
  },
  {
   "cell_type": "markdown",
   "metadata": {},
   "source": [
    "#sorting values into the data_drop variable\n",
    "\n",
    "#then it plots the first 10 of the sorted values\n",
    "\n",
    "#x = neighborhood_municipality\n",
    "\n",
    "#y = indv_tested\n",
    "\n",
    "#I assigned x and y labels to the correct variable and rotated the xlabel \n",
    "\n",
    "#to make it easier to read"
   ]
  },
  {
   "cell_type": "code",
   "execution_count": 11,
   "metadata": {},
   "outputs": [
    {
     "data": {
      "image/png": "[encoded data removed]",
      "text/plain": [
       "<Figure size 432x288 with 1 Axes>"
      ]
     },
     "metadata": {
      "needs_background": "light"
     },
     "output_type": "display_data"
    }
   ],
   "source": [
    "data_drop = data_drop.sort_values(by=['indv_tested'],axis=0,ascending=True,inplace=False,kind='quicksort',na_position='last',ignore_index=False,key=None).head(10)\n",
    "plt.bar(\"neighborhood_municipality\", \"indv_tested\", data=data_drop, color=\"blue\")\n",
    "plt.xlabel(\"neighborhood_municipality\")\n",
    "plt.xticks(rotation=90)\n",
    "plt.ylabel(\"indv_tested\")\n",
    "plt.title(\"Top 10 Highest Testing Count By Neighborhood\")\n",
    "plt.show()"
   ]
  },
  {
   "cell_type": "markdown",
   "metadata": {},
   "source": [
    "#removes indv_tested, deaths, and update_date columns from table"
   ]
  },
  {
   "cell_type": "code",
   "execution_count": 12,
   "metadata": {},
   "outputs": [
    {
     "data": {
      "text/html": [
       "<div>\n",
       "<style scoped>\n",
       "    .dataframe tbody tr th:only-of-type {\n",
       "        vertical-align: middle;\n",
       "    }\n",
       "\n",
       "    .dataframe tbody tr th {\n",
       "        vertical-align: top;\n",
       "    }\n",
       "\n",
       "    .dataframe thead th {\n",
       "        text-align: right;\n",
       "    }\n",
       "</style>\n",
       "<table border=\"1\" class=\"dataframe\">\n",
       "  <thead>\n",
       "    <tr style=\"text-align: right;\">\n",
       "      <th></th>\n",
       "      <th>neighborhood_municipality</th>\n",
       "      <th>cases</th>\n",
       "    </tr>\n",
       "  </thead>\n",
       "  <tbody>\n",
       "    <tr>\n",
       "      <th>0</th>\n",
       "      <td>Aleppo</td>\n",
       "      <td>110</td>\n",
       "    </tr>\n",
       "    <tr>\n",
       "      <th>1</th>\n",
       "      <td>Allegheny Center (Pittsburgh)</td>\n",
       "      <td>98</td>\n",
       "    </tr>\n",
       "    <tr>\n",
       "      <th>2</th>\n",
       "      <td>Allegheny West (Pittsburgh)</td>\n",
       "      <td>28</td>\n",
       "    </tr>\n",
       "    <tr>\n",
       "      <th>3</th>\n",
       "      <td>Allentown (Pittsburgh)</td>\n",
       "      <td>130</td>\n",
       "    </tr>\n",
       "    <tr>\n",
       "      <th>4</th>\n",
       "      <td>Arlington (Pittsburgh)</td>\n",
       "      <td>116</td>\n",
       "    </tr>\n",
       "    <tr>\n",
       "      <th>5</th>\n",
       "      <td>Arlington Heights (Pittsburgh)</td>\n",
       "      <td>9</td>\n",
       "    </tr>\n",
       "    <tr>\n",
       "      <th>6</th>\n",
       "      <td>Aspinwall</td>\n",
       "      <td>148</td>\n",
       "    </tr>\n",
       "    <tr>\n",
       "      <th>7</th>\n",
       "      <td>Avalon</td>\n",
       "      <td>304</td>\n",
       "    </tr>\n",
       "    <tr>\n",
       "      <th>8</th>\n",
       "      <td>Baldwin Borough</td>\n",
       "      <td>2295</td>\n",
       "    </tr>\n",
       "    <tr>\n",
       "      <th>9</th>\n",
       "      <td>Baldwin Township</td>\n",
       "      <td>156</td>\n",
       "    </tr>\n",
       "  </tbody>\n",
       "</table>\n",
       "</div>"
      ],
      "text/plain": [
       "        neighborhood_municipality  cases\n",
       "0                          Aleppo    110\n",
       "1   Allegheny Center (Pittsburgh)     98\n",
       "2     Allegheny West (Pittsburgh)     28\n",
       "3          Allentown (Pittsburgh)    130\n",
       "4          Arlington (Pittsburgh)    116\n",
       "5  Arlington Heights (Pittsburgh)      9\n",
       "6                       Aspinwall    148\n",
       "7                          Avalon    304\n",
       "8                 Baldwin Borough   2295\n",
       "9                Baldwin Township    156"
      ]
     },
     "execution_count": 12,
     "metadata": {},
     "output_type": "execute_result"
    }
   ],
   "source": [
    "data_drop2 = df.drop(['indv_tested', 'deaths', 'update_date'], axis=1)\n",
    "data_drop2.head(10)"
   ]
  },
  {
   "cell_type": "markdown",
   "metadata": {},
   "source": [
    "#sorting the values in cases column to obtain neighborhoods with the least amount of cases"
   ]
  },
  {
   "cell_type": "code",
   "execution_count": 13,
   "metadata": {},
   "outputs": [
    {
     "data": {
      "text/html": [
       "<div>\n",
       "<style scoped>\n",
       "    .dataframe tbody tr th:only-of-type {\n",
       "        vertical-align: middle;\n",
       "    }\n",
       "\n",
       "    .dataframe tbody tr th {\n",
       "        vertical-align: top;\n",
       "    }\n",
       "\n",
       "    .dataframe thead th {\n",
       "        text-align: right;\n",
       "    }\n",
       "</style>\n",
       "<table border=\"1\" class=\"dataframe\">\n",
       "  <thead>\n",
       "    <tr style=\"text-align: right;\">\n",
       "      <th></th>\n",
       "      <th>neighborhood_municipality</th>\n",
       "      <th>cases</th>\n",
       "    </tr>\n",
       "  </thead>\n",
       "  <tbody>\n",
       "    <tr>\n",
       "      <th>41</th>\n",
       "      <td>Chateau (Pittsburgh)</td>\n",
       "      <td>0</td>\n",
       "    </tr>\n",
       "    <tr>\n",
       "      <th>149</th>\n",
       "      <td>Pitcairn</td>\n",
       "      <td>1</td>\n",
       "    </tr>\n",
       "    <tr>\n",
       "      <th>91</th>\n",
       "      <td>Haysville</td>\n",
       "      <td>3</td>\n",
       "    </tr>\n",
       "    <tr>\n",
       "      <th>195</th>\n",
       "      <td>Trafford</td>\n",
       "      <td>5</td>\n",
       "    </tr>\n",
       "    <tr>\n",
       "      <th>185</th>\n",
       "      <td>St. Clair (Pittsburgh)</td>\n",
       "      <td>8</td>\n",
       "    </tr>\n",
       "    <tr>\n",
       "      <th>5</th>\n",
       "      <td>Arlington Heights (Pittsburgh)</td>\n",
       "      <td>9</td>\n",
       "    </tr>\n",
       "    <tr>\n",
       "      <th>175</th>\n",
       "      <td>South Shore (Pittsburgh)</td>\n",
       "      <td>12</td>\n",
       "    </tr>\n",
       "    <tr>\n",
       "      <th>163</th>\n",
       "      <td>Rosslyn Farms</td>\n",
       "      <td>14</td>\n",
       "    </tr>\n",
       "    <tr>\n",
       "      <th>68</th>\n",
       "      <td>Esplen (Pittsburgh)</td>\n",
       "      <td>15</td>\n",
       "    </tr>\n",
       "    <tr>\n",
       "      <th>84</th>\n",
       "      <td>Glenfield</td>\n",
       "      <td>15</td>\n",
       "    </tr>\n",
       "  </tbody>\n",
       "</table>\n",
       "</div>"
      ],
      "text/plain": [
       "          neighborhood_municipality  cases\n",
       "41             Chateau (Pittsburgh)      0\n",
       "149                        Pitcairn      1\n",
       "91                        Haysville      3\n",
       "195                        Trafford      5\n",
       "185          St. Clair (Pittsburgh)      8\n",
       "5    Arlington Heights (Pittsburgh)      9\n",
       "175        South Shore (Pittsburgh)     12\n",
       "163                   Rosslyn Farms     14\n",
       "68              Esplen (Pittsburgh)     15\n",
       "84                        Glenfield     15"
      ]
     },
     "execution_count": 13,
     "metadata": {},
     "output_type": "execute_result"
    }
   ],
   "source": [
    "data_drop2.sort_values(by=['cases'],axis=0,ascending=True,inplace=False,kind='quicksort',na_position='last',ignore_index=False,key=None).head(10)"
   ]
  },
  {
   "cell_type": "markdown",
   "metadata": {},
   "source": [
    "#sorts data_drop2 to obtain neighborhoods with least amount of cases\n",
    "\n",
    "#then it plots the first 10 of the sorted values\n",
    "\n",
    "#x = neighborhood_municipality\n",
    "\n",
    "#y = cases\n",
    "\n",
    "#I assigned x and y labels to the correct variable and rotated the xlabel\n",
    "\n",
    "#to make it easier to read"
   ]
  },
  {
   "cell_type": "code",
   "execution_count": 14,
   "metadata": {},
   "outputs": [
    {
     "data": {
      "image/png": "[encoded data removed]",
      "text/plain": [
       "<Figure size 432x288 with 1 Axes>"
      ]
     },
     "metadata": {
      "needs_background": "light"
     },
     "output_type": "display_data"
    }
   ],
   "source": [
    "data_drop2 = data_drop2.sort_values(by=['cases'],axis=0,ascending=True,inplace=False,kind='quicksort',na_position='last',ignore_index=False,key=None).head(10)\n",
    "plt.bar(\"neighborhood_municipality\", \"cases\", data=data_drop2, color=\"blue\")\n",
    "plt.xlabel(\"neighborhood_municipality\")\n",
    "plt.xticks(rotation=90)\n",
    "plt.ylabel(\"cases\")\n",
    "plt.title(\"Top 10 Highest Cases Count By Neighborhood\")\n",
    "plt.show()"
   ]
  },
  {
   "cell_type": "markdown",
   "metadata": {},
   "source": [
    "#first dropped deaths and update_date columns\n",
    "\n",
    "#created a new column called ratio, it is calculated from the value in cases\n",
    "\n",
    "#divided by the value in the indv_tested column\n",
    "\n",
    "#dropped the indv_tested and cases column and sorted the values in the ratio column"
   ]
  },
  {
   "cell_type": "code",
   "execution_count": 15,
   "metadata": {},
   "outputs": [
    {
     "data": {
      "text/html": [
       "<div>\n",
       "<style scoped>\n",
       "    .dataframe tbody tr th:only-of-type {\n",
       "        vertical-align: middle;\n",
       "    }\n",
       "\n",
       "    .dataframe tbody tr th {\n",
       "        vertical-align: top;\n",
       "    }\n",
       "\n",
       "    .dataframe thead th {\n",
       "        text-align: right;\n",
       "    }\n",
       "</style>\n",
       "<table border=\"1\" class=\"dataframe\">\n",
       "  <thead>\n",
       "    <tr style=\"text-align: right;\">\n",
       "      <th></th>\n",
       "      <th>neighborhood_municipality</th>\n",
       "      <th>ratio</th>\n",
       "    </tr>\n",
       "  </thead>\n",
       "  <tbody>\n",
       "    <tr>\n",
       "      <th>41</th>\n",
       "      <td>Chateau (Pittsburgh)</td>\n",
       "      <td>0.000000</td>\n",
       "    </tr>\n",
       "    <tr>\n",
       "      <th>183</th>\n",
       "      <td>Squirrel Hill North (Pittsburgh)</td>\n",
       "      <td>0.068670</td>\n",
       "    </tr>\n",
       "    <tr>\n",
       "      <th>63</th>\n",
       "      <td>Edgeworth</td>\n",
       "      <td>0.087537</td>\n",
       "    </tr>\n",
       "    <tr>\n",
       "      <th>152</th>\n",
       "      <td>Point Breeze (Pittsburgh)</td>\n",
       "      <td>0.088400</td>\n",
       "    </tr>\n",
       "    <tr>\n",
       "      <th>79</th>\n",
       "      <td>Friendship (Pittsburgh)</td>\n",
       "      <td>0.088548</td>\n",
       "    </tr>\n",
       "    <tr>\n",
       "      <th>168</th>\n",
       "      <td>Shadyside (Pittsburgh)</td>\n",
       "      <td>0.096041</td>\n",
       "    </tr>\n",
       "    <tr>\n",
       "      <th>62</th>\n",
       "      <td>Edgewood</td>\n",
       "      <td>0.098901</td>\n",
       "    </tr>\n",
       "    <tr>\n",
       "      <th>149</th>\n",
       "      <td>Pitcairn</td>\n",
       "      <td>0.100000</td>\n",
       "    </tr>\n",
       "    <tr>\n",
       "      <th>184</th>\n",
       "      <td>Squirrel Hill South (Pittsburgh)</td>\n",
       "      <td>0.101997</td>\n",
       "    </tr>\n",
       "    <tr>\n",
       "      <th>157</th>\n",
       "      <td>Regent Square (Pittsburgh)</td>\n",
       "      <td>0.103118</td>\n",
       "    </tr>\n",
       "  </tbody>\n",
       "</table>\n",
       "</div>"
      ],
      "text/plain": [
       "            neighborhood_municipality     ratio\n",
       "41               Chateau (Pittsburgh)  0.000000\n",
       "183  Squirrel Hill North (Pittsburgh)  0.068670\n",
       "63                          Edgeworth  0.087537\n",
       "152         Point Breeze (Pittsburgh)  0.088400\n",
       "79            Friendship (Pittsburgh)  0.088548\n",
       "168            Shadyside (Pittsburgh)  0.096041\n",
       "62                           Edgewood  0.098901\n",
       "149                          Pitcairn  0.100000\n",
       "184  Squirrel Hill South (Pittsburgh)  0.101997\n",
       "157        Regent Square (Pittsburgh)  0.103118"
      ]
     },
     "execution_count": 15,
     "metadata": {},
     "output_type": "execute_result"
    }
   ],
   "source": [
    "data_drop3 = df.drop(['deaths', 'update_date'], axis=1)\n",
    "data_drop3['ratio'] = data_drop3['cases'] / data_drop3['indv_tested']\n",
    "data_drop4 = data_drop3.drop(['indv_tested', 'cases'], axis=1)\n",
    "data_drop4.sort_values(by=['ratio'],axis=0,ascending=True,inplace=False,kind='quicksort',na_position='last',ignore_index=False,key=None).head(10)"
   ]
  },
  {
   "cell_type": "markdown",
   "metadata": {},
   "source": [
    "##sorted values in data_drop4\n",
    "\n",
    "##then it plots the first 10 of the sorted values\n",
    "\n",
    "##x = neighborhood_municipality\n",
    "\n",
    "##y = ratio\n",
    "\n",
    "##I assigned x and y labels to the correct variable and rotated the xlabel\n",
    "\n",
    "##to make it easier to read"
   ]
  },
  {
   "cell_type": "code",
   "execution_count": 16,
   "metadata": {},
   "outputs": [
    {
     "data": {
      "image/png": "[encoded data removed]",
      "text/plain": [
       "<Figure size 432x288 with 1 Axes>"
      ]
     },
     "metadata": {
      "needs_background": "light"
     },
     "output_type": "display_data"
    }
   ],
   "source": [
    "data_drop4 = data_drop4.sort_values(by=['ratio'],axis=0,ascending=True,inplace=False,kind='quicksort',na_position='last',ignore_index=False,key=None).head(10)\n",
    "plt.bar(\"neighborhood_municipality\", \"ratio\", data=data_drop4, color=\"blue\")\n",
    "plt.xlabel(\"neighborhood_municipality\")\n",
    "plt.xticks(rotation=90)\n",
    "plt.ylabel(\"ratio\")\n",
    "plt.title(\"Ratio of Number of Cases Per Individual Tested\")\n",
    "plt.show()"
   ]
  },
  {
   "cell_type": "markdown",
   "metadata": {},
   "source": [
    "## Conclusion"
   ]
  },
  {
   "cell_type": "markdown",
   "metadata": {},
   "source": [
    "Overall, I had to start by breaking down the original datset in order to obtain data that would be useful to compare between neighborhoods.  I decided to calculate the ratio of number of cases per individual tested in each neighborhood.  This statistic allowed me to even the playing field because certain neighborhoods tested more people than other neighborhoods, thus it would make sense they naturally had more positive tests because more people were tested.  After creating my ratio I found that the neighborhood of Chateau had the lowest ratio in comparison to the other neighborhoods.  Therefore, Chateau wins my metric of best neighborhood."
   ]
  }
 ],
 "metadata": {
  "kernelspec": {
   "display_name": "Python 3",
   "language": "python",
   "name": "python3"
  },
  "language_info": {
   "codemirror_mode": {
    "name": "ipython",
    "version": 3
   },
   "file_extension": ".py",
   "mimetype": "text/x-python",
   "name": "python",
   "nbconvert_exporter": "python",
   "pygments_lexer": "ipython3",
   "version": "3.8.5"
  }
 },
 "nbformat": 4,
 "nbformat_minor": 4
}
